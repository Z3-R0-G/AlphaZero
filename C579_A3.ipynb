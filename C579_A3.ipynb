{
  "cells": [
    {
      "cell_type": "markdown",
      "source": [
        "# Offline RL\n",
        "\n",
        "Here we start by setting by the cart-pole domain from the Gym environment suite"
      ],
      "metadata": {
        "id": "2ytPHo7PUqOG"
      }
    },
    {
      "cell_type": "code",
      "source": [
        "!pip install gymnasium==0.27.1"
      ],
      "metadata": {
        "colab": {
          "base_uri": "https://localhost:8080/"
        },
        "id": "Fa5v2VVUodCi",
        "outputId": "c67e01f7-b851-4b45-bcbc-f99233e929f9"
      },
      "execution_count": 192,
      "outputs": [
        {
          "output_type": "stream",
          "name": "stdout",
          "text": [
            "Looking in indexes: https://pypi.org/simple, https://us-python.pkg.dev/colab-wheels/public/simple/\n",
            "Requirement already satisfied: gymnasium==0.27.1 in /usr/local/lib/python3.9/dist-packages (0.27.1)\n",
            "Requirement already satisfied: jax-jumpy>=0.2.0 in /usr/local/lib/python3.9/dist-packages (from gymnasium==0.27.1) (1.0.0)\n",
            "Requirement already satisfied: gymnasium-notices>=0.0.1 in /usr/local/lib/python3.9/dist-packages (from gymnasium==0.27.1) (0.0.1)\n",
            "Requirement already satisfied: typing-extensions>=4.3.0 in /usr/local/lib/python3.9/dist-packages (from gymnasium==0.27.1) (4.5.0)\n",
            "Requirement already satisfied: cloudpickle>=1.2.0 in /usr/local/lib/python3.9/dist-packages (from gymnasium==0.27.1) (2.2.1)\n",
            "Requirement already satisfied: numpy>=1.21.0 in /usr/local/lib/python3.9/dist-packages (from gymnasium==0.27.1) (1.22.4)\n",
            "Requirement already satisfied: importlib-metadata>=4.8.0 in /usr/local/lib/python3.9/dist-packages (from gymnasium==0.27.1) (6.1.0)\n",
            "Requirement already satisfied: zipp>=0.5 in /usr/local/lib/python3.9/dist-packages (from importlib-metadata>=4.8.0->gymnasium==0.27.1) (3.15.0)\n"
          ]
        }
      ]
    },
    {
      "cell_type": "code",
      "execution_count": 193,
      "metadata": {
        "id": "sNplqZVKZaPt"
      },
      "outputs": [],
      "source": [
        "import numpy as np\n",
        "import gymnasium as gym\n",
        "env = gym.make('CartPole-v1')\n",
        "\n",
        "def observation2state(observation,bins):\n",
        "    state = []\n",
        "    for i in range(len(observation)):\n",
        "        digit = np.digitize(observation[i],bins[i])\n",
        "        state.append(digit)\n",
        "    state = ''.join(str(digit) for digit in state)\n",
        "\n",
        "    return int(state)\n",
        "\n",
        "def action_selection(state,Q,n_action,epsilon):\n",
        "    if np.random.random() < epsilon:\n",
        "        action = np.random.randint(n_action)\n",
        "    else:\n",
        "        action = np.argmax(Q[state])\n",
        "    return action\n",
        "\n",
        "n_states = 4\n",
        "n_actions = 2\n",
        "\n",
        "#create the bins for each state by boundings tested before\n",
        "x = np.linspace(-3,3,9)\n",
        "cv = np.linspace(-4,4,9)\n",
        "#cv = np.linspace(env.env.observation_space.low[1],env.env.observation_space.high[1],10)\n",
        "a = np.linspace(-0.3,0.3,9)\n",
        "av = np.linspace(-4,4,9)\n",
        "#av = np.linspace(env.env.observation_space.low[3],env.env.observation_space.high[3],10)\n",
        "bins = [x,cv,a,av]"
      ]
    },
    {
      "cell_type": "markdown",
      "source": [
        "Below is our preferred agent from Assignment 2 which we re-train.\n",
        "\n",
        "It is a Q-learning agent with alpha=0.1 and gamma=0.1"
      ],
      "metadata": {
        "id": "3z57JKZLU9ca"
      }
    },
    {
      "cell_type": "code",
      "source": [
        "def q_learning(env,seed,bins,alpha,epsilon,gamma = 0.95):\n",
        "    ns = 10*10*10*10\n",
        "    na = env.action_space.n\n",
        "    np.random.seed(seed)\n",
        "    #init weights in [-0.001,0.001]\n",
        "    Q = np.random.rand(ns,na)/500-0.001\n",
        "    n_episode = 5000\n",
        "    rewards = [] \n",
        "    for episode in range(n_episode):\n",
        "        observation = env.reset()[0]\n",
        "        state = observation2state(observation,bins)\n",
        "        done = False\n",
        "        total_reward = 0\n",
        "        \n",
        "        while not done:\n",
        "            action = action_selection(state,Q,na,epsilon)\n",
        "            next_observation,reward,done,truncation,_ = env.step(action)\n",
        "            if truncation:\n",
        "                break\n",
        "            total_reward += reward\n",
        "            next_state = observation2state(next_observation,bins)\n",
        "            #update Q value\n",
        "            Q[state,action] += alpha*(reward+gamma*np.max(Q[next_state])-Q[state,action])\n",
        "            state = next_state\n",
        "        rewards.append(total_reward)\n",
        "\n",
        "    return Q, rewards\n",
        "\n",
        "Q_expert,r = q_learning(env,0,bins,0.1,0.1)"
      ],
      "metadata": {
        "id": "KBY39V64U-Xb"
      },
      "execution_count": 194,
      "outputs": []
    },
    {
      "cell_type": "code",
      "source": [
        "print(Q_expert.shape)\n",
        "print(len(r))"
      ],
      "metadata": {
        "colab": {
          "base_uri": "https://localhost:8080/"
        },
        "id": "01bL6B3iUHyk",
        "outputId": "78613025-52f6-48b8-ee32-bd2730592af9"
      },
      "execution_count": 195,
      "outputs": [
        {
          "output_type": "stream",
          "name": "stdout",
          "text": [
            "(10000, 2)\n",
            "5000\n"
          ]
        }
      ]
    },
    {
      "cell_type": "markdown",
      "source": [
        "## Data Generation\n",
        "\n",
        "We gather, in total, 500 behaviour episodes from our preferred agent. To do so, we incrementally adjust the epsilon ('greediness' factor) along 1.0, 0.5, and 0, as well as record the first 100, 250, then 500 episodes per epsilon \n",
        "\n",
        "Eventually, we also gather 500 behaviour episodes from a random agent.\n",
        "\n"
      ],
      "metadata": {
        "id": "gly3UhxRVMj5"
      }
    },
    {
      "cell_type": "code",
      "execution_count": 196,
      "metadata": {
        "id": "wXeQssx_ZaPy"
      },
      "outputs": [],
      "source": [
        "def generate_data(agent,env,bins,episodes,percentage_expert):\n",
        "    data_all = []\n",
        "    na = env.action_space.n\n",
        "    for i in range(int(episodes*percentage_expert)):\n",
        "        data=[]\n",
        "        observation = env.reset()[0]\n",
        "        state = observation2state(observation,bins)\n",
        "        action = action_selection(state,agent,na,0)\n",
        "        data.append([state,action])\n",
        "        done = False\n",
        "        while not done:\n",
        "            \n",
        "            observation,_,done,truncation,_ = env.step(action)\n",
        "            if truncation:\n",
        "                break\n",
        "            if (not done):\n",
        "                state = observation2state(observation,bins)\n",
        "                action = action_selection(state,agent,na,0)\n",
        "                data.append([state,action])\n",
        "        data_all.append(data)\n",
        "    for i in range(int(episodes*(1-percentage_expert))):\n",
        "        data=[]\n",
        "        observation = env.reset()[0]\n",
        "        state = observation2state(observation,bins)\n",
        "        action = env.action_space.sample()\n",
        "        data.append([state,action])\n",
        "        done = False\n",
        "        while not done:\n",
        "            \n",
        "            observation,_,done,truncation,_ = env.step(action)\n",
        "            if truncation:\n",
        "                break\n",
        "            if (not done):\n",
        "                state = observation2state(observation,bins)\n",
        "                action = env.action_space.sample()\n",
        "                data.append([state,action])\n",
        "        data_all.append(data)\n",
        "    return data_all"
      ]
    },
    {
      "cell_type": "code",
      "execution_count": 197,
      "metadata": {
        "id": "PABZRHjIZaPz",
        "colab": {
          "base_uri": "https://localhost:8080/"
        },
        "outputId": "ed24a599-42ae-4818-daf1-282af5315b61"
      },
      "outputs": [
        {
          "output_type": "stream",
          "name": "stderr",
          "text": [
            "<__array_function__ internals>:180: VisibleDeprecationWarning: Creating an ndarray from ragged nested sequences (which is a list-or-tuple of lists-or-tuples-or ndarrays with different lengths or shapes) is deprecated. If you meant to do this, you must specify 'dtype=object' when creating the ndarray.\n"
          ]
        }
      ],
      "source": [
        "exp_p=[1,0.5,0]\n",
        "ep = [100,150,250]\n",
        "#generate data for episode = 100,250,500\n",
        "data = [] \n",
        "for i in range(3):\n",
        "  for j in range(3):\n",
        "    if (j>0):\n",
        "      data.append(np.concatenate((generate_data(Q_expert,env,bins,ep[j],exp_p[i]),data[i*3+j-1]),axis=0))\n",
        "    else:\n",
        "      data.append(generate_data(Q_expert,env,bins,ep[j],exp_p[i]))"
      ]
    },
    {
      "cell_type": "code",
      "source": [
        "print(len(data))"
      ],
      "metadata": {
        "colab": {
          "base_uri": "https://localhost:8080/"
        },
        "id": "gD53-R9QLQiH",
        "outputId": "b0407dde-5715-4b02-ff8a-fa21ff03dbd7"
      },
      "execution_count": 198,
      "outputs": [
        {
          "output_type": "stream",
          "name": "stdout",
          "text": [
            "9\n"
          ]
        }
      ]
    },
    {
      "cell_type": "code",
      "source": [
        "print(data[0][0][0])"
      ],
      "metadata": {
        "colab": {
          "base_uri": "https://localhost:8080/"
        },
        "id": "21fWmCddM4zD",
        "outputId": "b09138d5-9a9c-4b6d-cf5a-a4522725dd15"
      },
      "execution_count": 199,
      "outputs": [
        {
          "output_type": "stream",
          "name": "stdout",
          "text": [
            "[4544, 0]\n"
          ]
        }
      ]
    },
    {
      "cell_type": "markdown",
      "source": [
        "Next, we compare two approaches:\n",
        "*   Simple imitation learning: using logistic regression to imitate the\n",
        "action observed in each state\n",
        "\n",
        "*   Fitted Q-learning\n"
      ],
      "metadata": {
        "id": "QQY0FrPSXDUP"
      }
    },
    {
      "cell_type": "markdown",
      "source": [
        "## Simple Imitation Learning (Logistic Regression)\n",
        "\n",
        "Here we train for each of the 9 datasets, yielding a separately optimized \"agent\" with a separately tuned \"preferred\" action for each state (4 categories, 10 bins per category), for each dataset. We then run each \"agent\" in a simulation of 100 episodes to record and later plot the mean and std reward.\n",
        "\n",
        "We also try out 2 learning rates, a=0.05 and a=0.005"
      ],
      "metadata": {
        "id": "BDkP7MO8eh5G"
      }
    },
    {
      "cell_type": "code",
      "execution_count": 200,
      "metadata": {
        "id": "nG-A_56hZaP1"
      },
      "outputs": [],
      "source": [
        "#for logistic regression\n",
        "#using softmax to get probability\n",
        "def softmax(x):\n",
        "    p = np.array(x)\n",
        "    n = np.exp(x).sum()\n",
        "    for i in range(len(x)):\n",
        "        p[i] = np.exp(x[i])/n\n",
        "    return p\n",
        "\n",
        "#compute cross entropy loss\n",
        "def cross_entropy(x,y):\n",
        "    p = softmax(x)\n",
        "    l=0\n",
        "    for i in range(len(x)):\n",
        "      l += -y[i]*np.log(p[i])-(1-y[i])*np.log(1-p[i])\n",
        "    l = l/len(x)\n",
        "    return l\n",
        "\n",
        "#gradients of the cross_entropy loss to every Q.\n",
        "def gradient(x,y):\n",
        "    r = np.array(x)\n",
        "    n = np.exp(x).sum()\n",
        "    p = softmax(x)\n",
        "    r[0] = y[0]-p[0]\n",
        "    r[1] = y[1]-p[1]\n",
        "    return r\n",
        "\n",
        "def action_selection_p(state,Q):\n",
        "    action = np.argmax(softmax(Q[state]))\n",
        "    return action\n",
        "\n",
        "def log_reg_trainer(data,alpha,epoch):\n",
        "  Q=np.random.rand(10000,2)/500-0.001\n",
        "  for i in range(epoch):\n",
        "    total_loss=0\n",
        "    for episode in range(len(data)): # 100, 250, or 500\n",
        "      loss = 0\n",
        "      for s in range(len(data[episode])): # s\n",
        "        action = data[episode][s][1]\n",
        "        state = data[episode][s][0]\n",
        "\n",
        "        y = np.zeros(2)\n",
        "        y[action] = 1\n",
        "        loss += cross_entropy(Q[state],y)\n",
        "        \n",
        "        Q[state] += alpha*gradient(Q[state],y)\n",
        "      total_loss += loss/len(data[episode])\n",
        "    print(total_loss/len(data))\n",
        "  return Q\n",
        "\n",
        "def test(agent,env,episode):\n",
        "  rewards = [] \n",
        "  na = env.action_space.n\n",
        "  for i in range(episode):\n",
        "      observation = env.reset()[0]\n",
        "      state = observation2state(observation,bins)\n",
        "      done = False\n",
        "      total_reward = 0\n",
        "      while not done:\n",
        "          action = action_selection_p(state,agent)\n",
        "          observation,reward,done,truncation,_ = env.step(action)\n",
        "          state = observation2state(observation,bins)\n",
        "          total_reward+=reward\n",
        "          if truncation:\n",
        "              break\n",
        "      rewards.append(total_reward)\n",
        "  return rewards"
      ]
    },
    {
      "cell_type": "code",
      "source": [
        "#train for behaviour clone \n",
        "\n",
        "# LEARNING RATE 0.05 \n",
        "\n",
        "Q_bc = []\n",
        "for i in range(3):\n",
        "  for j in range(3):\n",
        "    Q = log_reg_trainer(data[i*3+j],0.05,1)\n",
        "    Q_bc.append(Q)\n",
        "\n",
        "rewards=[]\n",
        "for i in range(3):\n",
        "  for j in range(3):\n",
        "    rewards.append(test(Q_bc[i*3+j],env,100))\n",
        "\n",
        "print(np.std(rewards,axis=1))\n",
        "print(np.mean(rewards,axis=1))"
      ],
      "metadata": {
        "colab": {
          "base_uri": "https://localhost:8080/"
        },
        "id": "ehCsSU3YoghZ",
        "outputId": "911ed86a-2695-4cdd-f07b-119ea7d7a9b4"
      },
      "execution_count": 201,
      "outputs": [
        {
          "output_type": "stream",
          "name": "stdout",
          "text": [
            "0.1122609496567266\n",
            "0.05961364524316961\n",
            "0.036953296742427554\n",
            "0.571360667982765\n",
            "0.5566805616278943\n",
            "0.5282624836678141\n",
            "0.6997082319677859\n",
            "0.6994387753991254\n",
            "0.6996593942929241\n",
            "[39.85624167 35.79748595 40.84593003 31.14638181 35.01043273 43.49185096\n",
            " 59.71396738 29.65973028 25.61244034]\n",
            "[144.2  140.2  143.7  131.27 140.36 140.83  76.11  41.98  37.27]\n"
          ]
        }
      ]
    },
    {
      "cell_type": "code",
      "source": [
        "Q_bc = []\n",
        "for i in range(3):\n",
        "  for j in range(3):\n",
        "    Q = log_reg_trainer(data[i*3+j],0.005,1)\n",
        "    Q_bc.append(Q)\n",
        "\n",
        "rewards=[]\n",
        "for i in range(3):\n",
        "  for j in range(3):\n",
        "    rewards.append(test(Q_bc[i*3+j],env,100))\n",
        "\n",
        "print(np.std(rewards,axis=1))\n",
        "print(np.mean(rewards,axis=1))\n",
        "\n",
        "# [(1,100), (1,250), (1,500), \n",
        "# (0.5,100), (0.5,250), (0.5,500), \n",
        "# (0,100), (0,250), (0,500)]"
      ],
      "metadata": {
        "colab": {
          "base_uri": "https://localhost:8080/"
        },
        "id": "8bkIUaNU1PjP",
        "outputId": "85b42f70-879c-4391-9796-21b88457fe30"
      },
      "execution_count": 202,
      "outputs": [
        {
          "output_type": "stream",
          "name": "stdout",
          "text": [
            "0.3465882232510906\n",
            "0.22339107471484015\n",
            "0.15245781509421427\n",
            "0.6060978418610085\n",
            "0.5773220939454123\n",
            "0.5741998274532853\n",
            "0.6939904926536417\n",
            "0.6939417561843365\n",
            "0.69357233710468\n",
            "[37.92663444 38.90020437 33.30222065 51.99304857 38.06267857 36.22984405\n",
            " 35.36253809 69.87351072 54.37966072]\n",
            "[147.48 140.71 139.39 145.27 145.95 141.72  52.97  66.45  61.55]\n"
          ]
        }
      ]
    },
    {
      "cell_type": "markdown",
      "source": [
        "We know that the dataset is organized per (agent epsilon, episodes) as follows:\n",
        "\n",
        "*   [(1,100), (1,250), (1,500), \n",
        "*   (0.5,100), (0.5,250), (0.5,500), \n",
        "*   (0,100), (0,250), (0,500)]\n",
        "\n",
        "From above, we see that alpha = 0.005 generally outperforms alpha = 0.05, therefore we select the former as our preferred learning rate for LR. However, the difference is almost negligible from the results above.\n",
        "\n",
        "We also observe that generally, as the dataset used for Offline RL relies less on the expert policy, the worse reward/performance we get. There is also no reliably observed relationship between number of episodes and offline performance/reward, however we would assume that with a great agent, there would be a positive relationship between the two. "
      ],
      "metadata": {
        "id": "bx-xlR1TZpJU"
      }
    },
    {
      "cell_type": "markdown",
      "source": [
        "Below is a summary of how the list 'data' is organized."
      ],
      "metadata": {
        "id": "JbYE1HWJY5S2"
      }
    },
    {
      "cell_type": "code",
      "source": [
        "print(str(len(data)) + ' datasets')\n",
        "print(str(len(data[0])) + ' episodes')\n",
        "print(str(len(data[0][0])) + ' steps' )\n",
        "print(str(len(data[0][0][0])) + ' elements: state and action')\n",
        "print(data[0][0][0])"
      ],
      "metadata": {
        "colab": {
          "base_uri": "https://localhost:8080/"
        },
        "id": "1xkk8o2ViZly",
        "outputId": "7cfa8089-42ca-4768-ffc5-5cc0bc4de3a8"
      },
      "execution_count": 203,
      "outputs": [
        {
          "output_type": "stream",
          "name": "stdout",
          "text": [
            "9 datasets\n",
            "100 episodes\n",
            "117 steps\n",
            "2 elements: state and action\n",
            "[4544, 0]\n"
          ]
        }
      ]
    },
    {
      "cell_type": "markdown",
      "source": [
        "## Fitted Q-Learning\n",
        "\n",
        "We do the same for Fitted Q-Learning, which follows the steps below:\n",
        "![Screenshot 2023-04-08 at 3.33.39 PM.png](data:image/png;base64,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)"
      ],
      "metadata": {
        "id": "LW8LctRseliG"
      }
    },
    {
      "cell_type": "markdown",
      "source": [
        "We will set K=15 in this experiment and test out 2 learning rates, a=0.05 and a=0.005."
      ],
      "metadata": {
        "id": "qHf-FfztnZAx"
      }
    },
    {
      "cell_type": "code",
      "source": [
        "def num2vec(state):\n",
        "  num = str(state)\n",
        "  vec = np.zeros((4,10))\n",
        "  for i, dig in enumerate(num):\n",
        "    dig = int(dig)\n",
        "    vec[i, dig] = 1\n",
        "  return vec\n",
        "\n",
        "def q_gradient(phi, y, state, alpha):\n",
        "  vec = num2vec(state)\n",
        "  state = str(state)\n",
        "  grad = alpha*(linear_fa(phi, vec)-y)\n",
        "  for i, dig in enumerate(state):\n",
        "    dig = int(dig)\n",
        "    #print(alpha*linear_fa(phi, vec))\n",
        "    phi[i][dig]+= grad\n",
        "  return phi\n",
        "\n",
        "def linear_fa(phi, state):\n",
        "  a = 0 \n",
        "  for i in range(phi.shape[0]):\n",
        "    #print(phi[i])\n",
        "    a += np.dot(phi[i], state[i])\n",
        "  return a"
      ],
      "metadata": {
        "id": "cfM06ZN8gw5n"
      },
      "execution_count": 211,
      "outputs": []
    },
    {
      "cell_type": "code",
      "source": [
        "def fitted_q_learning(data, alpha, gamma, K):\n",
        "  phi_1 = (np.random.rand(4,10))\n",
        "  phi_2 = (np.random.rand(4,10))\n",
        "  for i in range(K):\n",
        "    #print(i)\n",
        "    total_loss = 0\n",
        "    for episode in range(len(data)):\n",
        "      loss = 0\n",
        "\n",
        "      # STEP 2\n",
        "\n",
        "      max_len = len(data[episode])\n",
        "      grad_1 = np.zeros((4,10))\n",
        "      grad_2 = np.zeros((4,10))\n",
        "\n",
        "      for s in range(len(data[episode])): \n",
        "        action = data[episode][s][1]\n",
        "        code = str(data[episode][s][0])\n",
        "        state = num2vec(data[episode][s][0])\n",
        "\n",
        "        if s < max_len-1:\n",
        "          r = 1\n",
        "          next_state = num2vec(data[episode][s+1][0]) # assuming current_action taken\n",
        "          q_max = max(linear_fa(phi_1, next_state), linear_fa(phi_2, next_state))\n",
        "          y_i = r + gamma * q_max # where gamma is discount factor\n",
        "        else:\n",
        "          y_i = 0 # bc termination + no next step\n",
        "\n",
        "        if action==0:\n",
        "          grad_1[0][int(code[0])] += y_i  \n",
        "          grad_1[1][int(code[1])] += y_i \n",
        "          grad_1[2][int(code[2])] += y_i \n",
        "          grad_1[3][int(code[3])] += y_i \n",
        "        else:\n",
        "          grad_2[0][int(code[0])] += y_i  \n",
        "          grad_2[1][int(code[1])] += y_i \n",
        "          grad_2[2][int(code[2])] += y_i \n",
        "          grad_2[3][int(code[3])] += y_i   \n",
        "      \n",
        "      # STEP 3\n",
        "\n",
        "    phi_1 += alpha * grad_1\n",
        "    phi_2 += alpha * grad_2\n",
        "\n",
        "  return phi_1, phi_2"
      ],
      "metadata": {
        "id": "RHuOnwlcZZ3X"
      },
      "execution_count": 212,
      "outputs": []
    },
    {
      "cell_type": "code",
      "source": [
        "def q_test(x,y,env,episode):\n",
        "  rewards = [] \n",
        "  na = env.action_space.n\n",
        "  for i in range(episode):\n",
        "    observation = env.reset()[0]\n",
        "    state = observation2state(observation,bins)\n",
        "    done = False\n",
        "    total_reward = 0\n",
        "    while not done:\n",
        "      if linear_fa(x,num2vec(state))>linear_fa(y,num2vec(state)):\n",
        "        action=0\n",
        "      else:\n",
        "        action=1\n",
        "      observation,reward,done,truncation,_ = env.step(action)\n",
        "      state = observation2state(observation,bins)\n",
        "      total_reward+=reward\n",
        "      if truncation:\n",
        "          break\n",
        "    rewards.append(total_reward)\n",
        "  return rewards"
      ],
      "metadata": {
        "id": "nTxVLMJq7H2-"
      },
      "execution_count": 216,
      "outputs": []
    },
    {
      "cell_type": "code",
      "source": [
        "fql = []\n",
        "for i in range(3):\n",
        "  for j in range(3):\n",
        "    x, y = fitted_q_learning(data[i*3+j], 0.005, 0.9, 15)\n",
        "    fql.append([x,y])\n",
        "\n",
        "q_rewards=[]\n",
        "for i in range(3):\n",
        "  for j in range(3):\n",
        "    q_rewards.append(q_test(fql[i*3+j][0],fql[i*3+j][1],env,100))\n",
        "\n",
        "print(np.std(q_rewards,axis=1))\n",
        "print(np.mean(q_rewards,axis=1))"
      ],
      "metadata": {
        "colab": {
          "base_uri": "https://localhost:8080/"
        },
        "id": "X77PjSL_aErr",
        "outputId": "e13b7e37-2b91-44d3-8050-b4b73f5aadbc"
      },
      "execution_count": 217,
      "outputs": [
        {
          "output_type": "stream",
          "name": "stdout",
          "text": [
            "[41.73766165 38.97848637 42.53673236  0.74906609  0.8109254   0.7675285\n",
            "  1.56345771 10.91920785  3.09735371]\n",
            "[195.26 196.24 195.92   9.33   9.32   9.47  12.66  19.47  10.92]\n"
          ]
        }
      ]
    },
    {
      "cell_type": "code",
      "source": [
        "fql = []\n",
        "for i in range(3):\n",
        "  for j in range(3):\n",
        "    x, y = fitted_q_learning(data[i*3+j], 0.05, 0.9, 15)\n",
        "    fql.append([x,y])\n",
        "\n",
        "q_rewards=[]\n",
        "for i in range(3):\n",
        "  for j in range(3):\n",
        "    q_rewards.append(q_test(fql[i*3+j][0],fql[i*3+j][1],env,100))\n",
        "\n",
        "print(np.std(q_rewards,axis=1))\n",
        "print(np.mean(q_rewards,axis=1))"
      ],
      "metadata": {
        "colab": {
          "base_uri": "https://localhost:8080/"
        },
        "id": "Yxx1RqOJHnoO",
        "outputId": "97ff6be9-2ab0-4af8-f7d1-35d04cc1363e"
      },
      "execution_count": 218,
      "outputs": [
        {
          "output_type": "stream",
          "name": "stdout",
          "text": [
            "[41.35214626 44.26128218 40.80421057  0.66603303  0.68556546  0.66475559\n",
            "  3.42350697  2.84061613  3.94050758]\n",
            "[204.   201.83 193.58   9.42   9.3    9.41  14.14  13.97  13.82]\n"
          ]
        }
      ]
    },
    {
      "cell_type": "markdown",
      "source": [
        "Above, we observe that for Fitted Q-Learning, an alpha=0.05 proves to outperform an alpha=0.005 on all datasets. However, interestingly, we see that the offline performance drastically worsens as we rely less on the expert policy, whereas there seems to be not much difference in rewards along the number of episodes. We believe that this is definitely because of the nature of the linear function approximator Q_phi VS logistic regression. \n",
        "\n",
        "In particular, we suggest that compared to Logistic Regression, Fitted Q-Learning allows high accuracy early in training (hence the small amount of data required), but is not robust and performs poorly across more randomized performances. Logistic regression tends to \"underfit\", whereas Fitted Q-Learning tends to \"overfit\"."
      ],
      "metadata": {
        "id": "y_m3FdOJbOwS"
      }
    },
    {
      "cell_type": "markdown",
      "source": [
        "To better visualize this, we may refer to the bar plots below:\n",
        "\n",
        "## Visualization\n",
        "\n",
        "For each of the 3 barchart plots below, we will have 3 bars for LR, 3 bars for FQL, and 3 bars for MLP. Every bar will be trained on a dataset with 100% expert policy, one with 50% expert and 50% random, and one with 100% random. The horizontal lines represent the average reward for expert and the average reward for random agents respectively."
      ],
      "metadata": {
        "id": "iEQ9JmameXqV"
      }
    },
    {
      "cell_type": "code",
      "source": [
        "def find_mean(data, a):\n",
        "  mean = 0\n",
        "  lena = len(data[a])\n",
        "  for ep in data[a]:\n",
        "    mean += len(ep)-1\n",
        "  return mean/lena\n",
        "\n",
        "find_mean(data,0)"
      ],
      "metadata": {
        "colab": {
          "base_uri": "https://localhost:8080/"
        },
        "id": "8wCkulafngrW",
        "outputId": "5a4be27f-7c7d-46aa-b97b-c503b2e6db17"
      },
      "execution_count": 266,
      "outputs": [
        {
          "output_type": "execute_result",
          "data": {
            "text/plain": [
              "138.59"
            ]
          },
          "metadata": {},
          "execution_count": 266
        }
      ]
    },
    {
      "cell_type": "code",
      "source": [
        "import matplotlib.pyplot as plt \n",
        "\n",
        "x=[1,2,3,4,5,6,7,8,9]\n",
        "\n",
        "a = [x for i,x in enumerate(np.mean(rewards,axis=1)) if i%3==0]\n",
        "astd = [x for i,x in enumerate(np.std(rewards,axis=1)) if i%3==0]\n",
        "print(a)\n",
        "\n",
        "b = [x for i,x in enumerate(np.mean(q_rewards,axis=1)) if i%3==0]\n",
        "bstd = [x for i,x in enumerate(np.std(q_rewards,axis=1)) if i%3==0]\n",
        "print(b)\n",
        "\n",
        "c = [x for i,x in enumerate(np.mean(mlp_rewards,axis=1)) if i%3==0]\n",
        "cstd = [x for i,x in enumerate(np.std(mlp_rewards,axis=1)) if i%3==0]\n",
        "print(c)\n",
        "\n",
        "y= np.concatenate((a,b))\n",
        "y = np.concatenate((y,c))\n",
        "\n",
        "yerr= np.concatenate((astd,bstd))\n",
        "yerr= np.concatenate((yerr,cstd))\n",
        "\n",
        "width = 5\n",
        "height = 4\n",
        "plt.figure(figsize=(width, height))\n",
        "plt.bar(x, y)\n",
        "plt.title('Dataset Size 100')\n",
        "plt.ylabel('Reward')\n",
        "plt.errorbar(x, y, yerr)\n",
        "# agent mean\n",
        "plt.axhline(y=find_mean(data,0), color='r')\n",
        "# random mean\n",
        "plt.axhline(y=find_mean(data,6), color='g')\n",
        "plt.show()"
      ],
      "metadata": {
        "colab": {
          "base_uri": "https://localhost:8080/",
          "height": 445
        },
        "id": "vsDeLDFQeqOe",
        "outputId": "9fe786cf-5dc8-4ce0-9f1e-39b9247342d4"
      },
      "execution_count": 267,
      "outputs": [
        {
          "output_type": "stream",
          "name": "stdout",
          "text": [
            "[147.48, 145.27, 52.97]\n",
            "[204.0, 9.42, 14.14]\n",
            "[9.38, 9.49, 9.32]\n"
          ]
        },
        {
          "output_type": "display_data",
          "data": {
            "text/plain": [
              "<Figure size 500x400 with 1 Axes>"
            ],
            "image/png": "[encoded data removed]"
          },
          "metadata": {}
        }
      ]
    },
    {
      "cell_type": "code",
      "source": [
        "import matplotlib.pyplot as plt \n",
        "\n",
        "x=[1,2,3,4,5,6,7,8,9]\n",
        "\n",
        "a = [x for i,x in enumerate(np.mean(rewards,axis=1)) if i%3==1]\n",
        "astd = [x for i,x in enumerate(np.std(rewards,axis=1)) if i%3==1]\n",
        "print(a)\n",
        "\n",
        "b = [x for i,x in enumerate(np.mean(q_rewards,axis=1)) if i%3==1]\n",
        "bstd = [x for i,x in enumerate(np.std(q_rewards,axis=1)) if i%3==1]\n",
        "print(b)\n",
        "\n",
        "c = [x for i,x in enumerate(np.mean(mlp_rewards,axis=1)) if i%3==1]\n",
        "cstd = [x for i,x in enumerate(np.std(mlp_rewards,axis=1)) if i%3==1]\n",
        "print(c)\n",
        "\n",
        "y= np.concatenate((a,b))\n",
        "y = np.concatenate((y,c))\n",
        "\n",
        "yerr= np.concatenate((astd,bstd))\n",
        "yerr= np.concatenate((yerr,cstd))\n",
        "\n",
        "width = 5\n",
        "height = 4\n",
        "plt.figure(figsize=(width, height))\n",
        "plt.bar(x, y)\n",
        "plt.title('Dataset Size 250')\n",
        "plt.ylabel('Reward')\n",
        "plt.errorbar(x, y, yerr)\n",
        "# agent mean\n",
        "plt.axhline(y=find_mean(data,1), color='r')\n",
        "# random mean\n",
        "plt.axhline(y=find_mean(data,7), color='g')\n",
        "plt.show()"
      ],
      "metadata": {
        "colab": {
          "base_uri": "https://localhost:8080/",
          "height": 445
        },
        "id": "Kkdo25TthKQO",
        "outputId": "ba86d07c-2175-4aaa-cbfa-ddfe31efa653"
      },
      "execution_count": 269,
      "outputs": [
        {
          "output_type": "stream",
          "name": "stdout",
          "text": [
            "[140.71, 145.95, 66.45]\n",
            "[201.83, 9.3, 13.97]\n",
            "[9.29, 9.23, 9.33]\n"
          ]
        },
        {
          "output_type": "display_data",
          "data": {
            "text/plain": [
              "<Figure size 500x400 with 1 Axes>"
            ],
            "image/png": "[encoded data removed]"
          },
          "metadata": {}
        }
      ]
    },
    {
      "cell_type": "code",
      "source": [
        "import matplotlib.pyplot as plt \n",
        "\n",
        "x=[1,2,3,4,5,6,7,8,9]\n",
        "\n",
        "a = [x for i,x in enumerate(np.mean(rewards,axis=1)) if i%3==2]\n",
        "astd = [x for i,x in enumerate(np.std(rewards,axis=1)) if i%3==2]\n",
        "print(a)\n",
        "\n",
        "b = [x for i,x in enumerate(np.mean(q_rewards,axis=1)) if i%3==2]\n",
        "bstd = [x for i,x in enumerate(np.std(q_rewards,axis=1)) if i%3==2]\n",
        "print(b)\n",
        "\n",
        "c = [x for i,x in enumerate(np.mean(mlp_rewards,axis=1)) if i%3==2]\n",
        "cstd = [x for i,x in enumerate(np.std(mlp_rewards,axis=1)) if i%3==2]\n",
        "print(c)\n",
        "\n",
        "y= np.concatenate((a,b))\n",
        "y = np.concatenate((y,c))\n",
        "\n",
        "yerr= np.concatenate((astd,bstd))\n",
        "yerr= np.concatenate((yerr,cstd))\n",
        "\n",
        "width = 5\n",
        "height = 4\n",
        "plt.figure(figsize=(width, height))\n",
        "plt.bar(x, y)\n",
        "plt.title('Dataset Size 500')\n",
        "plt.ylabel('Reward')\n",
        "plt.errorbar(x, y, yerr)\n",
        "# agent mean\n",
        "plt.axhline(y=find_mean(data,2), color='r')\n",
        "# random mean\n",
        "plt.axhline(y=find_mean(data,8), color='g')\n",
        "plt.show()"
      ],
      "metadata": {
        "colab": {
          "base_uri": "https://localhost:8080/",
          "height": 445
        },
        "id": "waUSCaL3hQOm",
        "outputId": "6809eb0c-63e4-4c4e-a479-ac7afdb352f8"
      },
      "execution_count": 270,
      "outputs": [
        {
          "output_type": "stream",
          "name": "stdout",
          "text": [
            "[139.39, 141.72, 61.55]\n",
            "[193.58, 9.41, 13.82]\n",
            "[9.32, 9.32, 9.28]\n"
          ]
        },
        {
          "output_type": "display_data",
          "data": {
            "text/plain": [
              "<Figure size 500x400 with 1 Axes>"
            ],
            "image/png": "[encoded data removed]"
          },
          "metadata": {}
        }
      ]
    },
    {
      "cell_type": "markdown",
      "source": [
        "Here, generally speaking, we observe that LR is more robust along epsilon, whereas FQL fits very well to the expert policy but is not able to generalize, as evidenced by its decrease as we rely more and more on exploration.\n",
        "\n",
        "As mentioned above, this experiment suggests that the benefits of LR for Offline Learning would be on an expert agent that we are not fully confident of its performance across unknown data (bias-variance tradeoff), but we neverthelss want to get the most out of. On the other hand, FQL would be best used on agents that are confirmed to have robust and good performance, and where further exploration would not be necessary."
      ],
      "metadata": {
        "id": "oGrdYANQp-Dm"
      }
    },
    {
      "cell_type": "markdown",
      "source": [
        "## Bonus: Multilayer Perceptron as Function Approximator\n",
        "\n",
        "Here, for each state-action pair per datasaet, we create an entry in target matrix y following the formula as outlined in FQL above and fit the MLP to it. We do this K times, given the y matrix changes at every fit towards convergence."
      ],
      "metadata": {
        "id": "n8mmwYso52Kc"
      }
    },
    {
      "cell_type": "code",
      "source": [
        "def num2list (state):\n",
        "  x = []\n",
        "  state = str(state)\n",
        "  for i in state:\n",
        "    x.append(int(i))\n",
        "  return x"
      ],
      "metadata": {
        "id": "NDg65ajLBa1A"
      },
      "execution_count": 238,
      "outputs": []
    },
    {
      "cell_type": "code",
      "source": [
        "from sklearn.neural_network import MLPRegressor\n",
        "\n",
        "def fql_mlp(data, gamma, K):\n",
        "\n",
        "  clf = MLPRegressor(solver='lbfgs', alpha=1e-5, hidden_layer_sizes=(5, 2), random_state=1)\n",
        "  clf.fit(np.random.randint(10, size=(100,5)), np.random.rand(100,1))\n",
        "\n",
        "  for i in range(K):\n",
        "    print(i)\n",
        "    x = []\n",
        "    y = []\n",
        "\n",
        "    for episode in range(len(data)):\n",
        "      max_len = len(data[episode])\n",
        "\n",
        "      for s in range(len(data[episode])):\n",
        "        action = data[episode][s][1]\n",
        "        state = num2list(data[episode][s][0])\n",
        "\n",
        "        if s < max_len-1:\n",
        "          r = 1\n",
        "          next_state = num2list(data[episode][s+1][0]) \n",
        "          a = [i for i in next_state]\n",
        "          a.append(0)\n",
        "\n",
        "          b = [i for i in next_state]\n",
        "          b.append(1)\n",
        "\n",
        "          q_max = max(clf.predict(np.array(a).reshape(1,-1)), clf.predict(np.array(b).reshape(1,-1)))\n",
        "          y_i = r + gamma * q_max \n",
        "        else:\n",
        "          y_i = 0 \n",
        "\n",
        "        act = [i for i in state]\n",
        "        act.append(action)\n",
        "\n",
        "        x.append(act)\n",
        "        y.append(y_i)\n",
        "    \n",
        "    clf.fit(x,y)\n",
        "  return clf"
      ],
      "metadata": {
        "id": "c75SHRKI551J"
      },
      "execution_count": 242,
      "outputs": []
    },
    {
      "cell_type": "code",
      "source": [
        "def mlp_test(clf,env,episode):\n",
        "\n",
        "  rewards = [] \n",
        "  na = env.action_space.n\n",
        "  for i in range(episode):\n",
        "    observation = env.reset()[0]\n",
        "    state = observation2state(observation,bins)\n",
        "    done = False\n",
        "    total_reward = 0\n",
        "    while not done:\n",
        "      state = num2list(state)\n",
        "\n",
        "      a = [i for i in state]\n",
        "      a.append(0)\n",
        "\n",
        "      b = [i for i in state]\n",
        "      b.append(1)\n",
        "\n",
        "      if clf.predict(np.array(a).reshape(1,-1)) > clf.predict(np.array(b).reshape(1,-1)):\n",
        "        action=0\n",
        "      else:\n",
        "        action=1\n",
        "\n",
        "      observation,reward,done,truncation,_ = env.step(action)\n",
        "      state = observation2state(observation,bins)\n",
        "      total_reward+=reward\n",
        "\n",
        "      if truncation:\n",
        "          break\n",
        "\n",
        "    rewards.append(total_reward)\n",
        "\n",
        "  return rewards"
      ],
      "metadata": {
        "id": "M6H9tV8-H9PK"
      },
      "execution_count": 243,
      "outputs": []
    },
    {
      "cell_type": "code",
      "source": [
        "mlp_rewards=[]\n",
        "for i in range(3):\n",
        "  for j in range(3):\n",
        "    clf = fql_mlp(data[i*3+j], 0.9, 15)\n",
        "    mlp_rewards.append(mlp_test(clf,env,100))"
      ],
      "metadata": {
        "colab": {
          "base_uri": "https://localhost:8080/"
        },
        "id": "rVfIjyB7-Bqk",
        "outputId": "7af797b3-fc90-434a-db6f-f97f57611599"
      },
      "execution_count": 246,
      "outputs": [
        {
          "output_type": "stream",
          "name": "stderr",
          "text": [
            "/usr/local/lib/python3.9/dist-packages/sklearn/neural_network/_multilayer_perceptron.py:1623: DataConversionWarning: A column-vector y was passed when a 1d array was expected. Please change the shape of y to (n_samples, ), for example using ravel().\n",
            "  y = column_or_1d(y, warn=True)\n"
          ]
        },
        {
          "output_type": "stream",
          "name": "stdout",
          "text": [
            "0\n"
          ]
        },
        {
          "output_type": "stream",
          "name": "stderr",
          "text": [
            "/usr/local/lib/python3.9/dist-packages/sklearn/utils/_array_api.py:185: VisibleDeprecationWarning: Creating an ndarray from ragged nested sequences (which is a list-or-tuple of lists-or-tuples-or ndarrays with different lengths or shapes) is deprecated. If you meant to do this, you must specify 'dtype=object' when creating the ndarray.\n",
            "  array = numpy.asarray(array, order=order, dtype=dtype)\n"
          ]
        },
        {
          "output_type": "stream",
          "name": "stdout",
          "text": [
            "1\n"
          ]
        },
        {
          "output_type": "stream",
          "name": "stderr",
          "text": [
            "/usr/local/lib/python3.9/dist-packages/sklearn/utils/_array_api.py:185: VisibleDeprecationWarning: Creating an ndarray from ragged nested sequences (which is a list-or-tuple of lists-or-tuples-or ndarrays with different lengths or shapes) is deprecated. If you meant to do this, you must specify 'dtype=object' when creating the ndarray.\n",
            "  array = numpy.asarray(array, order=order, dtype=dtype)\n"
          ]
        },
        {
          "output_type": "stream",
          "name": "stdout",
          "text": [
            "2\n"
          ]
        },
        {
          "output_type": "stream",
          "name": "stderr",
          "text": [
            "/usr/local/lib/python3.9/dist-packages/sklearn/utils/_array_api.py:185: VisibleDeprecationWarning: Creating an ndarray from ragged nested sequences (which is a list-or-tuple of lists-or-tuples-or ndarrays with different lengths or shapes) is deprecated. If you meant to do this, you must specify 'dtype=object' when creating the ndarray.\n",
            "  array = numpy.asarray(array, order=order, dtype=dtype)\n"
          ]
        },
        {
          "output_type": "stream",
          "name": "stdout",
          "text": [
            "3\n"
          ]
        },
        {
          "output_type": "stream",
          "name": "stderr",
          "text": [
            "/usr/local/lib/python3.9/dist-packages/sklearn/utils/_array_api.py:185: VisibleDeprecationWarning: Creating an ndarray from ragged nested sequences (which is a list-or-tuple of lists-or-tuples-or ndarrays with different lengths or shapes) is deprecated. If you meant to do this, you must specify 'dtype=object' when creating the ndarray.\n",
            "  array = numpy.asarray(array, order=order, dtype=dtype)\n"
          ]
        },
        {
          "output_type": "stream",
          "name": "stdout",
          "text": [
            "4\n"
          ]
        },
        {
          "output_type": "stream",
          "name": "stderr",
          "text": [
            "/usr/local/lib/python3.9/dist-packages/sklearn/utils/_array_api.py:185: VisibleDeprecationWarning: Creating an ndarray from ragged nested sequences (which is a list-or-tuple of lists-or-tuples-or ndarrays with different lengths or shapes) is deprecated. If you meant to do this, you must specify 'dtype=object' when creating the ndarray.\n",
            "  array = numpy.asarray(array, order=order, dtype=dtype)\n"
          ]
        },
        {
          "output_type": "stream",
          "name": "stdout",
          "text": [
            "5\n"
          ]
        },
        {
          "output_type": "stream",
          "name": "stderr",
          "text": [
            "/usr/local/lib/python3.9/dist-packages/sklearn/utils/_array_api.py:185: VisibleDeprecationWarning: Creating an ndarray from ragged nested sequences (which is a list-or-tuple of lists-or-tuples-or ndarrays with different lengths or shapes) is deprecated. If you meant to do this, you must specify 'dtype=object' when creating the ndarray.\n",
            "  array = numpy.asarray(array, order=order, dtype=dtype)\n"
          ]
        },
        {
          "output_type": "stream",
          "name": "stdout",
          "text": [
            "6\n"
          ]
        },
        {
          "output_type": "stream",
          "name": "stderr",
          "text": [
            "/usr/local/lib/python3.9/dist-packages/sklearn/utils/_array_api.py:185: VisibleDeprecationWarning: Creating an ndarray from ragged nested sequences (which is a list-or-tuple of lists-or-tuples-or ndarrays with different lengths or shapes) is deprecated. If you meant to do this, you must specify 'dtype=object' when creating the ndarray.\n",
            "  array = numpy.asarray(array, order=order, dtype=dtype)\n"
          ]
        },
        {
          "output_type": "stream",
          "name": "stdout",
          "text": [
            "7\n"
          ]
        },
        {
          "output_type": "stream",
          "name": "stderr",
          "text": [
            "/usr/local/lib/python3.9/dist-packages/sklearn/utils/_array_api.py:185: VisibleDeprecationWarning: Creating an ndarray from ragged nested sequences (which is a list-or-tuple of lists-or-tuples-or ndarrays with different lengths or shapes) is deprecated. If you meant to do this, you must specify 'dtype=object' when creating the ndarray.\n",
            "  array = numpy.asarray(array, order=order, dtype=dtype)\n"
          ]
        },
        {
          "output_type": "stream",
          "name": "stdout",
          "text": [
            "8\n"
          ]
        },
        {
          "output_type": "stream",
          "name": "stderr",
          "text": [
            "/usr/local/lib/python3.9/dist-packages/sklearn/utils/_array_api.py:185: VisibleDeprecationWarning: Creating an ndarray from ragged nested sequences (which is a list-or-tuple of lists-or-tuples-or ndarrays with different lengths or shapes) is deprecated. If you meant to do this, you must specify 'dtype=object' when creating the ndarray.\n",
            "  array = numpy.asarray(array, order=order, dtype=dtype)\n"
          ]
        },
        {
          "output_type": "stream",
          "name": "stdout",
          "text": [
            "9\n"
          ]
        },
        {
          "output_type": "stream",
          "name": "stderr",
          "text": [
            "/usr/local/lib/python3.9/dist-packages/sklearn/utils/_array_api.py:185: VisibleDeprecationWarning: Creating an ndarray from ragged nested sequences (which is a list-or-tuple of lists-or-tuples-or ndarrays with different lengths or shapes) is deprecated. If you meant to do this, you must specify 'dtype=object' when creating the ndarray.\n",
            "  array = numpy.asarray(array, order=order, dtype=dtype)\n"
          ]
        },
        {
          "output_type": "stream",
          "name": "stdout",
          "text": [
            "10\n"
          ]
        },
        {
          "output_type": "stream",
          "name": "stderr",
          "text": [
            "/usr/local/lib/python3.9/dist-packages/sklearn/utils/_array_api.py:185: VisibleDeprecationWarning: Creating an ndarray from ragged nested sequences (which is a list-or-tuple of lists-or-tuples-or ndarrays with different lengths or shapes) is deprecated. If you meant to do this, you must specify 'dtype=object' when creating the ndarray.\n",
            "  array = numpy.asarray(array, order=order, dtype=dtype)\n"
          ]
        },
        {
          "output_type": "stream",
          "name": "stdout",
          "text": [
            "11\n"
          ]
        },
        {
          "output_type": "stream",
          "name": "stderr",
          "text": [
            "/usr/local/lib/python3.9/dist-packages/sklearn/utils/_array_api.py:185: VisibleDeprecationWarning: Creating an ndarray from ragged nested sequences (which is a list-or-tuple of lists-or-tuples-or ndarrays with different lengths or shapes) is deprecated. If you meant to do this, you must specify 'dtype=object' when creating the ndarray.\n",
            "  array = numpy.asarray(array, order=order, dtype=dtype)\n"
          ]
        },
        {
          "output_type": "stream",
          "name": "stdout",
          "text": [
            "12\n"
          ]
        },
        {
          "output_type": "stream",
          "name": "stderr",
          "text": [
            "/usr/local/lib/python3.9/dist-packages/sklearn/utils/_array_api.py:185: VisibleDeprecationWarning: Creating an ndarray from ragged nested sequences (which is a list-or-tuple of lists-or-tuples-or ndarrays with different lengths or shapes) is deprecated. If you meant to do this, you must specify 'dtype=object' when creating the ndarray.\n",
            "  array = numpy.asarray(array, order=order, dtype=dtype)\n"
          ]
        },
        {
          "output_type": "stream",
          "name": "stdout",
          "text": [
            "13\n"
          ]
        },
        {
          "output_type": "stream",
          "name": "stderr",
          "text": [
            "/usr/local/lib/python3.9/dist-packages/sklearn/utils/_array_api.py:185: VisibleDeprecationWarning: Creating an ndarray from ragged nested sequences (which is a list-or-tuple of lists-or-tuples-or ndarrays with different lengths or shapes) is deprecated. If you meant to do this, you must specify 'dtype=object' when creating the ndarray.\n",
            "  array = numpy.asarray(array, order=order, dtype=dtype)\n"
          ]
        },
        {
          "output_type": "stream",
          "name": "stdout",
          "text": [
            "14\n"
          ]
        },
        {
          "output_type": "stream",
          "name": "stderr",
          "text": [
            "/usr/local/lib/python3.9/dist-packages/sklearn/utils/_array_api.py:185: VisibleDeprecationWarning: Creating an ndarray from ragged nested sequences (which is a list-or-tuple of lists-or-tuples-or ndarrays with different lengths or shapes) is deprecated. If you meant to do this, you must specify 'dtype=object' when creating the ndarray.\n",
            "  array = numpy.asarray(array, order=order, dtype=dtype)\n",
            "/usr/local/lib/python3.9/dist-packages/sklearn/neural_network/_multilayer_perceptron.py:1623: DataConversionWarning: A column-vector y was passed when a 1d array was expected. Please change the shape of y to (n_samples, ), for example using ravel().\n",
            "  y = column_or_1d(y, warn=True)\n"
          ]
        },
        {
          "output_type": "stream",
          "name": "stdout",
          "text": [
            "0\n"
          ]
        },
        {
          "output_type": "stream",
          "name": "stderr",
          "text": [
            "/usr/local/lib/python3.9/dist-packages/sklearn/utils/_array_api.py:185: VisibleDeprecationWarning: Creating an ndarray from ragged nested sequences (which is a list-or-tuple of lists-or-tuples-or ndarrays with different lengths or shapes) is deprecated. If you meant to do this, you must specify 'dtype=object' when creating the ndarray.\n",
            "  array = numpy.asarray(array, order=order, dtype=dtype)\n"
          ]
        },
        {
          "output_type": "stream",
          "name": "stdout",
          "text": [
            "1\n"
          ]
        },
        {
          "output_type": "stream",
          "name": "stderr",
          "text": [
            "/usr/local/lib/python3.9/dist-packages/sklearn/utils/_array_api.py:185: VisibleDeprecationWarning: Creating an ndarray from ragged nested sequences (which is a list-or-tuple of lists-or-tuples-or ndarrays with different lengths or shapes) is deprecated. If you meant to do this, you must specify 'dtype=object' when creating the ndarray.\n",
            "  array = numpy.asarray(array, order=order, dtype=dtype)\n"
          ]
        },
        {
          "output_type": "stream",
          "name": "stdout",
          "text": [
            "2\n"
          ]
        },
        {
          "output_type": "stream",
          "name": "stderr",
          "text": [
            "/usr/local/lib/python3.9/dist-packages/sklearn/utils/_array_api.py:185: VisibleDeprecationWarning: Creating an ndarray from ragged nested sequences (which is a list-or-tuple of lists-or-tuples-or ndarrays with different lengths or shapes) is deprecated. If you meant to do this, you must specify 'dtype=object' when creating the ndarray.\n",
            "  array = numpy.asarray(array, order=order, dtype=dtype)\n"
          ]
        },
        {
          "output_type": "stream",
          "name": "stdout",
          "text": [
            "3\n"
          ]
        },
        {
          "output_type": "stream",
          "name": "stderr",
          "text": [
            "/usr/local/lib/python3.9/dist-packages/sklearn/utils/_array_api.py:185: VisibleDeprecationWarning: Creating an ndarray from ragged nested sequences (which is a list-or-tuple of lists-or-tuples-or ndarrays with different lengths or shapes) is deprecated. If you meant to do this, you must specify 'dtype=object' when creating the ndarray.\n",
            "  array = numpy.asarray(array, order=order, dtype=dtype)\n"
          ]
        },
        {
          "output_type": "stream",
          "name": "stdout",
          "text": [
            "4\n"
          ]
        },
        {
          "output_type": "stream",
          "name": "stderr",
          "text": [
            "/usr/local/lib/python3.9/dist-packages/sklearn/utils/_array_api.py:185: VisibleDeprecationWarning: Creating an ndarray from ragged nested sequences (which is a list-or-tuple of lists-or-tuples-or ndarrays with different lengths or shapes) is deprecated. If you meant to do this, you must specify 'dtype=object' when creating the ndarray.\n",
            "  array = numpy.asarray(array, order=order, dtype=dtype)\n"
          ]
        },
        {
          "output_type": "stream",
          "name": "stdout",
          "text": [
            "5\n"
          ]
        },
        {
          "output_type": "stream",
          "name": "stderr",
          "text": [
            "/usr/local/lib/python3.9/dist-packages/sklearn/utils/_array_api.py:185: VisibleDeprecationWarning: Creating an ndarray from ragged nested sequences (which is a list-or-tuple of lists-or-tuples-or ndarrays with different lengths or shapes) is deprecated. If you meant to do this, you must specify 'dtype=object' when creating the ndarray.\n",
            "  array = numpy.asarray(array, order=order, dtype=dtype)\n"
          ]
        },
        {
          "output_type": "stream",
          "name": "stdout",
          "text": [
            "6\n"
          ]
        },
        {
          "output_type": "stream",
          "name": "stderr",
          "text": [
            "/usr/local/lib/python3.9/dist-packages/sklearn/utils/_array_api.py:185: VisibleDeprecationWarning: Creating an ndarray from ragged nested sequences (which is a list-or-tuple of lists-or-tuples-or ndarrays with different lengths or shapes) is deprecated. If you meant to do this, you must specify 'dtype=object' when creating the ndarray.\n",
            "  array = numpy.asarray(array, order=order, dtype=dtype)\n"
          ]
        },
        {
          "output_type": "stream",
          "name": "stdout",
          "text": [
            "7\n"
          ]
        },
        {
          "output_type": "stream",
          "name": "stderr",
          "text": [
            "/usr/local/lib/python3.9/dist-packages/sklearn/utils/_array_api.py:185: VisibleDeprecationWarning: Creating an ndarray from ragged nested sequences (which is a list-or-tuple of lists-or-tuples-or ndarrays with different lengths or shapes) is deprecated. If you meant to do this, you must specify 'dtype=object' when creating the ndarray.\n",
            "  array = numpy.asarray(array, order=order, dtype=dtype)\n"
          ]
        },
        {
          "output_type": "stream",
          "name": "stdout",
          "text": [
            "8\n"
          ]
        },
        {
          "output_type": "stream",
          "name": "stderr",
          "text": [
            "/usr/local/lib/python3.9/dist-packages/sklearn/utils/_array_api.py:185: VisibleDeprecationWarning: Creating an ndarray from ragged nested sequences (which is a list-or-tuple of lists-or-tuples-or ndarrays with different lengths or shapes) is deprecated. If you meant to do this, you must specify 'dtype=object' when creating the ndarray.\n",
            "  array = numpy.asarray(array, order=order, dtype=dtype)\n"
          ]
        },
        {
          "output_type": "stream",
          "name": "stdout",
          "text": [
            "9\n"
          ]
        },
        {
          "output_type": "stream",
          "name": "stderr",
          "text": [
            "/usr/local/lib/python3.9/dist-packages/sklearn/utils/_array_api.py:185: VisibleDeprecationWarning: Creating an ndarray from ragged nested sequences (which is a list-or-tuple of lists-or-tuples-or ndarrays with different lengths or shapes) is deprecated. If you meant to do this, you must specify 'dtype=object' when creating the ndarray.\n",
            "  array = numpy.asarray(array, order=order, dtype=dtype)\n"
          ]
        },
        {
          "output_type": "stream",
          "name": "stdout",
          "text": [
            "10\n"
          ]
        },
        {
          "output_type": "stream",
          "name": "stderr",
          "text": [
            "/usr/local/lib/python3.9/dist-packages/sklearn/utils/_array_api.py:185: VisibleDeprecationWarning: Creating an ndarray from ragged nested sequences (which is a list-or-tuple of lists-or-tuples-or ndarrays with different lengths or shapes) is deprecated. If you meant to do this, you must specify 'dtype=object' when creating the ndarray.\n",
            "  array = numpy.asarray(array, order=order, dtype=dtype)\n"
          ]
        },
        {
          "output_type": "stream",
          "name": "stdout",
          "text": [
            "11\n"
          ]
        },
        {
          "output_type": "stream",
          "name": "stderr",
          "text": [
            "/usr/local/lib/python3.9/dist-packages/sklearn/utils/_array_api.py:185: VisibleDeprecationWarning: Creating an ndarray from ragged nested sequences (which is a list-or-tuple of lists-or-tuples-or ndarrays with different lengths or shapes) is deprecated. If you meant to do this, you must specify 'dtype=object' when creating the ndarray.\n",
            "  array = numpy.asarray(array, order=order, dtype=dtype)\n"
          ]
        },
        {
          "output_type": "stream",
          "name": "stdout",
          "text": [
            "12\n"
          ]
        },
        {
          "output_type": "stream",
          "name": "stderr",
          "text": [
            "/usr/local/lib/python3.9/dist-packages/sklearn/utils/_array_api.py:185: VisibleDeprecationWarning: Creating an ndarray from ragged nested sequences (which is a list-or-tuple of lists-or-tuples-or ndarrays with different lengths or shapes) is deprecated. If you meant to do this, you must specify 'dtype=object' when creating the ndarray.\n",
            "  array = numpy.asarray(array, order=order, dtype=dtype)\n"
          ]
        },
        {
          "output_type": "stream",
          "name": "stdout",
          "text": [
            "13\n"
          ]
        },
        {
          "output_type": "stream",
          "name": "stderr",
          "text": [
            "/usr/local/lib/python3.9/dist-packages/sklearn/utils/_array_api.py:185: VisibleDeprecationWarning: Creating an ndarray from ragged nested sequences (which is a list-or-tuple of lists-or-tuples-or ndarrays with different lengths or shapes) is deprecated. If you meant to do this, you must specify 'dtype=object' when creating the ndarray.\n",
            "  array = numpy.asarray(array, order=order, dtype=dtype)\n"
          ]
        },
        {
          "output_type": "stream",
          "name": "stdout",
          "text": [
            "14\n"
          ]
        },
        {
          "output_type": "stream",
          "name": "stderr",
          "text": [
            "/usr/local/lib/python3.9/dist-packages/sklearn/utils/_array_api.py:185: VisibleDeprecationWarning: Creating an ndarray from ragged nested sequences (which is a list-or-tuple of lists-or-tuples-or ndarrays with different lengths or shapes) is deprecated. If you meant to do this, you must specify 'dtype=object' when creating the ndarray.\n",
            "  array = numpy.asarray(array, order=order, dtype=dtype)\n",
            "/usr/local/lib/python3.9/dist-packages/sklearn/neural_network/_multilayer_perceptron.py:1623: DataConversionWarning: A column-vector y was passed when a 1d array was expected. Please change the shape of y to (n_samples, ), for example using ravel().\n",
            "  y = column_or_1d(y, warn=True)\n",
            "/usr/local/lib/python3.9/dist-packages/sklearn/neural_network/_multilayer_perceptron.py:541: ConvergenceWarning: lbfgs failed to converge (status=1):\n",
            "STOP: TOTAL NO. of ITERATIONS REACHED LIMIT.\n",
            "\n",
            "Increase the number of iterations (max_iter) or scale the data as shown in:\n",
            "    https://scikit-learn.org/stable/modules/preprocessing.html\n",
            "  self.n_iter_ = _check_optimize_result(\"lbfgs\", opt_res, self.max_iter)\n"
          ]
        },
        {
          "output_type": "stream",
          "name": "stdout",
          "text": [
            "0\n"
          ]
        },
        {
          "output_type": "stream",
          "name": "stderr",
          "text": [
            "/usr/local/lib/python3.9/dist-packages/sklearn/utils/_array_api.py:185: VisibleDeprecationWarning: Creating an ndarray from ragged nested sequences (which is a list-or-tuple of lists-or-tuples-or ndarrays with different lengths or shapes) is deprecated. If you meant to do this, you must specify 'dtype=object' when creating the ndarray.\n",
            "  array = numpy.asarray(array, order=order, dtype=dtype)\n"
          ]
        },
        {
          "output_type": "stream",
          "name": "stdout",
          "text": [
            "1\n"
          ]
        },
        {
          "output_type": "stream",
          "name": "stderr",
          "text": [
            "/usr/local/lib/python3.9/dist-packages/sklearn/utils/_array_api.py:185: VisibleDeprecationWarning: Creating an ndarray from ragged nested sequences (which is a list-or-tuple of lists-or-tuples-or ndarrays with different lengths or shapes) is deprecated. If you meant to do this, you must specify 'dtype=object' when creating the ndarray.\n",
            "  array = numpy.asarray(array, order=order, dtype=dtype)\n"
          ]
        },
        {
          "output_type": "stream",
          "name": "stdout",
          "text": [
            "2\n"
          ]
        },
        {
          "output_type": "stream",
          "name": "stderr",
          "text": [
            "/usr/local/lib/python3.9/dist-packages/sklearn/utils/_array_api.py:185: VisibleDeprecationWarning: Creating an ndarray from ragged nested sequences (which is a list-or-tuple of lists-or-tuples-or ndarrays with different lengths or shapes) is deprecated. If you meant to do this, you must specify 'dtype=object' when creating the ndarray.\n",
            "  array = numpy.asarray(array, order=order, dtype=dtype)\n"
          ]
        },
        {
          "output_type": "stream",
          "name": "stdout",
          "text": [
            "3\n"
          ]
        },
        {
          "output_type": "stream",
          "name": "stderr",
          "text": [
            "/usr/local/lib/python3.9/dist-packages/sklearn/utils/_array_api.py:185: VisibleDeprecationWarning: Creating an ndarray from ragged nested sequences (which is a list-or-tuple of lists-or-tuples-or ndarrays with different lengths or shapes) is deprecated. If you meant to do this, you must specify 'dtype=object' when creating the ndarray.\n",
            "  array = numpy.asarray(array, order=order, dtype=dtype)\n"
          ]
        },
        {
          "output_type": "stream",
          "name": "stdout",
          "text": [
            "4\n"
          ]
        },
        {
          "output_type": "stream",
          "name": "stderr",
          "text": [
            "/usr/local/lib/python3.9/dist-packages/sklearn/utils/_array_api.py:185: VisibleDeprecationWarning: Creating an ndarray from ragged nested sequences (which is a list-or-tuple of lists-or-tuples-or ndarrays with different lengths or shapes) is deprecated. If you meant to do this, you must specify 'dtype=object' when creating the ndarray.\n",
            "  array = numpy.asarray(array, order=order, dtype=dtype)\n"
          ]
        },
        {
          "output_type": "stream",
          "name": "stdout",
          "text": [
            "5\n"
          ]
        },
        {
          "output_type": "stream",
          "name": "stderr",
          "text": [
            "/usr/local/lib/python3.9/dist-packages/sklearn/utils/_array_api.py:185: VisibleDeprecationWarning: Creating an ndarray from ragged nested sequences (which is a list-or-tuple of lists-or-tuples-or ndarrays with different lengths or shapes) is deprecated. If you meant to do this, you must specify 'dtype=object' when creating the ndarray.\n",
            "  array = numpy.asarray(array, order=order, dtype=dtype)\n"
          ]
        },
        {
          "output_type": "stream",
          "name": "stdout",
          "text": [
            "6\n"
          ]
        },
        {
          "output_type": "stream",
          "name": "stderr",
          "text": [
            "/usr/local/lib/python3.9/dist-packages/sklearn/utils/_array_api.py:185: VisibleDeprecationWarning: Creating an ndarray from ragged nested sequences (which is a list-or-tuple of lists-or-tuples-or ndarrays with different lengths or shapes) is deprecated. If you meant to do this, you must specify 'dtype=object' when creating the ndarray.\n",
            "  array = numpy.asarray(array, order=order, dtype=dtype)\n"
          ]
        },
        {
          "output_type": "stream",
          "name": "stdout",
          "text": [
            "7\n"
          ]
        },
        {
          "output_type": "stream",
          "name": "stderr",
          "text": [
            "/usr/local/lib/python3.9/dist-packages/sklearn/utils/_array_api.py:185: VisibleDeprecationWarning: Creating an ndarray from ragged nested sequences (which is a list-or-tuple of lists-or-tuples-or ndarrays with different lengths or shapes) is deprecated. If you meant to do this, you must specify 'dtype=object' when creating the ndarray.\n",
            "  array = numpy.asarray(array, order=order, dtype=dtype)\n"
          ]
        },
        {
          "output_type": "stream",
          "name": "stdout",
          "text": [
            "8\n"
          ]
        },
        {
          "output_type": "stream",
          "name": "stderr",
          "text": [
            "/usr/local/lib/python3.9/dist-packages/sklearn/utils/_array_api.py:185: VisibleDeprecationWarning: Creating an ndarray from ragged nested sequences (which is a list-or-tuple of lists-or-tuples-or ndarrays with different lengths or shapes) is deprecated. If you meant to do this, you must specify 'dtype=object' when creating the ndarray.\n",
            "  array = numpy.asarray(array, order=order, dtype=dtype)\n"
          ]
        },
        {
          "output_type": "stream",
          "name": "stdout",
          "text": [
            "9\n"
          ]
        },
        {
          "output_type": "stream",
          "name": "stderr",
          "text": [
            "/usr/local/lib/python3.9/dist-packages/sklearn/utils/_array_api.py:185: VisibleDeprecationWarning: Creating an ndarray from ragged nested sequences (which is a list-or-tuple of lists-or-tuples-or ndarrays with different lengths or shapes) is deprecated. If you meant to do this, you must specify 'dtype=object' when creating the ndarray.\n",
            "  array = numpy.asarray(array, order=order, dtype=dtype)\n"
          ]
        },
        {
          "output_type": "stream",
          "name": "stdout",
          "text": [
            "10\n"
          ]
        },
        {
          "output_type": "stream",
          "name": "stderr",
          "text": [
            "/usr/local/lib/python3.9/dist-packages/sklearn/utils/_array_api.py:185: VisibleDeprecationWarning: Creating an ndarray from ragged nested sequences (which is a list-or-tuple of lists-or-tuples-or ndarrays with different lengths or shapes) is deprecated. If you meant to do this, you must specify 'dtype=object' when creating the ndarray.\n",
            "  array = numpy.asarray(array, order=order, dtype=dtype)\n"
          ]
        },
        {
          "output_type": "stream",
          "name": "stdout",
          "text": [
            "11\n"
          ]
        },
        {
          "output_type": "stream",
          "name": "stderr",
          "text": [
            "/usr/local/lib/python3.9/dist-packages/sklearn/utils/_array_api.py:185: VisibleDeprecationWarning: Creating an ndarray from ragged nested sequences (which is a list-or-tuple of lists-or-tuples-or ndarrays with different lengths or shapes) is deprecated. If you meant to do this, you must specify 'dtype=object' when creating the ndarray.\n",
            "  array = numpy.asarray(array, order=order, dtype=dtype)\n"
          ]
        },
        {
          "output_type": "stream",
          "name": "stdout",
          "text": [
            "12\n"
          ]
        },
        {
          "output_type": "stream",
          "name": "stderr",
          "text": [
            "/usr/local/lib/python3.9/dist-packages/sklearn/utils/_array_api.py:185: VisibleDeprecationWarning: Creating an ndarray from ragged nested sequences (which is a list-or-tuple of lists-or-tuples-or ndarrays with different lengths or shapes) is deprecated. If you meant to do this, you must specify 'dtype=object' when creating the ndarray.\n",
            "  array = numpy.asarray(array, order=order, dtype=dtype)\n"
          ]
        },
        {
          "output_type": "stream",
          "name": "stdout",
          "text": [
            "13\n"
          ]
        },
        {
          "output_type": "stream",
          "name": "stderr",
          "text": [
            "/usr/local/lib/python3.9/dist-packages/sklearn/utils/_array_api.py:185: VisibleDeprecationWarning: Creating an ndarray from ragged nested sequences (which is a list-or-tuple of lists-or-tuples-or ndarrays with different lengths or shapes) is deprecated. If you meant to do this, you must specify 'dtype=object' when creating the ndarray.\n",
            "  array = numpy.asarray(array, order=order, dtype=dtype)\n"
          ]
        },
        {
          "output_type": "stream",
          "name": "stdout",
          "text": [
            "14\n"
          ]
        },
        {
          "output_type": "stream",
          "name": "stderr",
          "text": [
            "/usr/local/lib/python3.9/dist-packages/sklearn/utils/_array_api.py:185: VisibleDeprecationWarning: Creating an ndarray from ragged nested sequences (which is a list-or-tuple of lists-or-tuples-or ndarrays with different lengths or shapes) is deprecated. If you meant to do this, you must specify 'dtype=object' when creating the ndarray.\n",
            "  array = numpy.asarray(array, order=order, dtype=dtype)\n",
            "/usr/local/lib/python3.9/dist-packages/sklearn/neural_network/_multilayer_perceptron.py:1623: DataConversionWarning: A column-vector y was passed when a 1d array was expected. Please change the shape of y to (n_samples, ), for example using ravel().\n",
            "  y = column_or_1d(y, warn=True)\n"
          ]
        },
        {
          "output_type": "stream",
          "name": "stdout",
          "text": [
            "0\n"
          ]
        },
        {
          "output_type": "stream",
          "name": "stderr",
          "text": [
            "/usr/local/lib/python3.9/dist-packages/sklearn/utils/_array_api.py:185: VisibleDeprecationWarning: Creating an ndarray from ragged nested sequences (which is a list-or-tuple of lists-or-tuples-or ndarrays with different lengths or shapes) is deprecated. If you meant to do this, you must specify 'dtype=object' when creating the ndarray.\n",
            "  array = numpy.asarray(array, order=order, dtype=dtype)\n"
          ]
        },
        {
          "output_type": "stream",
          "name": "stdout",
          "text": [
            "1\n"
          ]
        },
        {
          "output_type": "stream",
          "name": "stderr",
          "text": [
            "/usr/local/lib/python3.9/dist-packages/sklearn/utils/_array_api.py:185: VisibleDeprecationWarning: Creating an ndarray from ragged nested sequences (which is a list-or-tuple of lists-or-tuples-or ndarrays with different lengths or shapes) is deprecated. If you meant to do this, you must specify 'dtype=object' when creating the ndarray.\n",
            "  array = numpy.asarray(array, order=order, dtype=dtype)\n"
          ]
        },
        {
          "output_type": "stream",
          "name": "stdout",
          "text": [
            "2\n"
          ]
        },
        {
          "output_type": "stream",
          "name": "stderr",
          "text": [
            "/usr/local/lib/python3.9/dist-packages/sklearn/utils/_array_api.py:185: VisibleDeprecationWarning: Creating an ndarray from ragged nested sequences (which is a list-or-tuple of lists-or-tuples-or ndarrays with different lengths or shapes) is deprecated. If you meant to do this, you must specify 'dtype=object' when creating the ndarray.\n",
            "  array = numpy.asarray(array, order=order, dtype=dtype)\n"
          ]
        },
        {
          "output_type": "stream",
          "name": "stdout",
          "text": [
            "3\n"
          ]
        },
        {
          "output_type": "stream",
          "name": "stderr",
          "text": [
            "/usr/local/lib/python3.9/dist-packages/sklearn/utils/_array_api.py:185: VisibleDeprecationWarning: Creating an ndarray from ragged nested sequences (which is a list-or-tuple of lists-or-tuples-or ndarrays with different lengths or shapes) is deprecated. If you meant to do this, you must specify 'dtype=object' when creating the ndarray.\n",
            "  array = numpy.asarray(array, order=order, dtype=dtype)\n"
          ]
        },
        {
          "output_type": "stream",
          "name": "stdout",
          "text": [
            "4\n"
          ]
        },
        {
          "output_type": "stream",
          "name": "stderr",
          "text": [
            "/usr/local/lib/python3.9/dist-packages/sklearn/utils/_array_api.py:185: VisibleDeprecationWarning: Creating an ndarray from ragged nested sequences (which is a list-or-tuple of lists-or-tuples-or ndarrays with different lengths or shapes) is deprecated. If you meant to do this, you must specify 'dtype=object' when creating the ndarray.\n",
            "  array = numpy.asarray(array, order=order, dtype=dtype)\n"
          ]
        },
        {
          "output_type": "stream",
          "name": "stdout",
          "text": [
            "5\n"
          ]
        },
        {
          "output_type": "stream",
          "name": "stderr",
          "text": [
            "/usr/local/lib/python3.9/dist-packages/sklearn/utils/_array_api.py:185: VisibleDeprecationWarning: Creating an ndarray from ragged nested sequences (which is a list-or-tuple of lists-or-tuples-or ndarrays with different lengths or shapes) is deprecated. If you meant to do this, you must specify 'dtype=object' when creating the ndarray.\n",
            "  array = numpy.asarray(array, order=order, dtype=dtype)\n"
          ]
        },
        {
          "output_type": "stream",
          "name": "stdout",
          "text": [
            "6\n"
          ]
        },
        {
          "output_type": "stream",
          "name": "stderr",
          "text": [
            "/usr/local/lib/python3.9/dist-packages/sklearn/utils/_array_api.py:185: VisibleDeprecationWarning: Creating an ndarray from ragged nested sequences (which is a list-or-tuple of lists-or-tuples-or ndarrays with different lengths or shapes) is deprecated. If you meant to do this, you must specify 'dtype=object' when creating the ndarray.\n",
            "  array = numpy.asarray(array, order=order, dtype=dtype)\n"
          ]
        },
        {
          "output_type": "stream",
          "name": "stdout",
          "text": [
            "7\n"
          ]
        },
        {
          "output_type": "stream",
          "name": "stderr",
          "text": [
            "/usr/local/lib/python3.9/dist-packages/sklearn/utils/_array_api.py:185: VisibleDeprecationWarning: Creating an ndarray from ragged nested sequences (which is a list-or-tuple of lists-or-tuples-or ndarrays with different lengths or shapes) is deprecated. If you meant to do this, you must specify 'dtype=object' when creating the ndarray.\n",
            "  array = numpy.asarray(array, order=order, dtype=dtype)\n"
          ]
        },
        {
          "output_type": "stream",
          "name": "stdout",
          "text": [
            "8\n"
          ]
        },
        {
          "output_type": "stream",
          "name": "stderr",
          "text": [
            "/usr/local/lib/python3.9/dist-packages/sklearn/utils/_array_api.py:185: VisibleDeprecationWarning: Creating an ndarray from ragged nested sequences (which is a list-or-tuple of lists-or-tuples-or ndarrays with different lengths or shapes) is deprecated. If you meant to do this, you must specify 'dtype=object' when creating the ndarray.\n",
            "  array = numpy.asarray(array, order=order, dtype=dtype)\n"
          ]
        },
        {
          "output_type": "stream",
          "name": "stdout",
          "text": [
            "9\n"
          ]
        },
        {
          "output_type": "stream",
          "name": "stderr",
          "text": [
            "/usr/local/lib/python3.9/dist-packages/sklearn/utils/_array_api.py:185: VisibleDeprecationWarning: Creating an ndarray from ragged nested sequences (which is a list-or-tuple of lists-or-tuples-or ndarrays with different lengths or shapes) is deprecated. If you meant to do this, you must specify 'dtype=object' when creating the ndarray.\n",
            "  array = numpy.asarray(array, order=order, dtype=dtype)\n"
          ]
        },
        {
          "output_type": "stream",
          "name": "stdout",
          "text": [
            "10\n"
          ]
        },
        {
          "output_type": "stream",
          "name": "stderr",
          "text": [
            "/usr/local/lib/python3.9/dist-packages/sklearn/utils/_array_api.py:185: VisibleDeprecationWarning: Creating an ndarray from ragged nested sequences (which is a list-or-tuple of lists-or-tuples-or ndarrays with different lengths or shapes) is deprecated. If you meant to do this, you must specify 'dtype=object' when creating the ndarray.\n",
            "  array = numpy.asarray(array, order=order, dtype=dtype)\n"
          ]
        },
        {
          "output_type": "stream",
          "name": "stdout",
          "text": [
            "11\n"
          ]
        },
        {
          "output_type": "stream",
          "name": "stderr",
          "text": [
            "/usr/local/lib/python3.9/dist-packages/sklearn/utils/_array_api.py:185: VisibleDeprecationWarning: Creating an ndarray from ragged nested sequences (which is a list-or-tuple of lists-or-tuples-or ndarrays with different lengths or shapes) is deprecated. If you meant to do this, you must specify 'dtype=object' when creating the ndarray.\n",
            "  array = numpy.asarray(array, order=order, dtype=dtype)\n"
          ]
        },
        {
          "output_type": "stream",
          "name": "stdout",
          "text": [
            "12\n"
          ]
        },
        {
          "output_type": "stream",
          "name": "stderr",
          "text": [
            "/usr/local/lib/python3.9/dist-packages/sklearn/utils/_array_api.py:185: VisibleDeprecationWarning: Creating an ndarray from ragged nested sequences (which is a list-or-tuple of lists-or-tuples-or ndarrays with different lengths or shapes) is deprecated. If you meant to do this, you must specify 'dtype=object' when creating the ndarray.\n",
            "  array = numpy.asarray(array, order=order, dtype=dtype)\n"
          ]
        },
        {
          "output_type": "stream",
          "name": "stdout",
          "text": [
            "13\n"
          ]
        },
        {
          "output_type": "stream",
          "name": "stderr",
          "text": [
            "/usr/local/lib/python3.9/dist-packages/sklearn/utils/_array_api.py:185: VisibleDeprecationWarning: Creating an ndarray from ragged nested sequences (which is a list-or-tuple of lists-or-tuples-or ndarrays with different lengths or shapes) is deprecated. If you meant to do this, you must specify 'dtype=object' when creating the ndarray.\n",
            "  array = numpy.asarray(array, order=order, dtype=dtype)\n"
          ]
        },
        {
          "output_type": "stream",
          "name": "stdout",
          "text": [
            "14\n"
          ]
        },
        {
          "output_type": "stream",
          "name": "stderr",
          "text": [
            "/usr/local/lib/python3.9/dist-packages/sklearn/utils/_array_api.py:185: VisibleDeprecationWarning: Creating an ndarray from ragged nested sequences (which is a list-or-tuple of lists-or-tuples-or ndarrays with different lengths or shapes) is deprecated. If you meant to do this, you must specify 'dtype=object' when creating the ndarray.\n",
            "  array = numpy.asarray(array, order=order, dtype=dtype)\n",
            "/usr/local/lib/python3.9/dist-packages/sklearn/neural_network/_multilayer_perceptron.py:1623: DataConversionWarning: A column-vector y was passed when a 1d array was expected. Please change the shape of y to (n_samples, ), for example using ravel().\n",
            "  y = column_or_1d(y, warn=True)\n",
            "/usr/local/lib/python3.9/dist-packages/sklearn/neural_network/_multilayer_perceptron.py:541: ConvergenceWarning: lbfgs failed to converge (status=1):\n",
            "STOP: TOTAL NO. of ITERATIONS REACHED LIMIT.\n",
            "\n",
            "Increase the number of iterations (max_iter) or scale the data as shown in:\n",
            "    https://scikit-learn.org/stable/modules/preprocessing.html\n",
            "  self.n_iter_ = _check_optimize_result(\"lbfgs\", opt_res, self.max_iter)\n"
          ]
        },
        {
          "output_type": "stream",
          "name": "stdout",
          "text": [
            "0\n"
          ]
        },
        {
          "output_type": "stream",
          "name": "stderr",
          "text": [
            "/usr/local/lib/python3.9/dist-packages/sklearn/utils/_array_api.py:185: VisibleDeprecationWarning: Creating an ndarray from ragged nested sequences (which is a list-or-tuple of lists-or-tuples-or ndarrays with different lengths or shapes) is deprecated. If you meant to do this, you must specify 'dtype=object' when creating the ndarray.\n",
            "  array = numpy.asarray(array, order=order, dtype=dtype)\n"
          ]
        },
        {
          "output_type": "stream",
          "name": "stdout",
          "text": [
            "1\n"
          ]
        },
        {
          "output_type": "stream",
          "name": "stderr",
          "text": [
            "/usr/local/lib/python3.9/dist-packages/sklearn/utils/_array_api.py:185: VisibleDeprecationWarning: Creating an ndarray from ragged nested sequences (which is a list-or-tuple of lists-or-tuples-or ndarrays with different lengths or shapes) is deprecated. If you meant to do this, you must specify 'dtype=object' when creating the ndarray.\n",
            "  array = numpy.asarray(array, order=order, dtype=dtype)\n"
          ]
        },
        {
          "output_type": "stream",
          "name": "stdout",
          "text": [
            "2\n"
          ]
        },
        {
          "output_type": "stream",
          "name": "stderr",
          "text": [
            "/usr/local/lib/python3.9/dist-packages/sklearn/utils/_array_api.py:185: VisibleDeprecationWarning: Creating an ndarray from ragged nested sequences (which is a list-or-tuple of lists-or-tuples-or ndarrays with different lengths or shapes) is deprecated. If you meant to do this, you must specify 'dtype=object' when creating the ndarray.\n",
            "  array = numpy.asarray(array, order=order, dtype=dtype)\n"
          ]
        },
        {
          "output_type": "stream",
          "name": "stdout",
          "text": [
            "3\n"
          ]
        },
        {
          "output_type": "stream",
          "name": "stderr",
          "text": [
            "/usr/local/lib/python3.9/dist-packages/sklearn/utils/_array_api.py:185: VisibleDeprecationWarning: Creating an ndarray from ragged nested sequences (which is a list-or-tuple of lists-or-tuples-or ndarrays with different lengths or shapes) is deprecated. If you meant to do this, you must specify 'dtype=object' when creating the ndarray.\n",
            "  array = numpy.asarray(array, order=order, dtype=dtype)\n"
          ]
        },
        {
          "output_type": "stream",
          "name": "stdout",
          "text": [
            "4\n"
          ]
        },
        {
          "output_type": "stream",
          "name": "stderr",
          "text": [
            "/usr/local/lib/python3.9/dist-packages/sklearn/utils/_array_api.py:185: VisibleDeprecationWarning: Creating an ndarray from ragged nested sequences (which is a list-or-tuple of lists-or-tuples-or ndarrays with different lengths or shapes) is deprecated. If you meant to do this, you must specify 'dtype=object' when creating the ndarray.\n",
            "  array = numpy.asarray(array, order=order, dtype=dtype)\n"
          ]
        },
        {
          "output_type": "stream",
          "name": "stdout",
          "text": [
            "5\n"
          ]
        },
        {
          "output_type": "stream",
          "name": "stderr",
          "text": [
            "/usr/local/lib/python3.9/dist-packages/sklearn/utils/_array_api.py:185: VisibleDeprecationWarning: Creating an ndarray from ragged nested sequences (which is a list-or-tuple of lists-or-tuples-or ndarrays with different lengths or shapes) is deprecated. If you meant to do this, you must specify 'dtype=object' when creating the ndarray.\n",
            "  array = numpy.asarray(array, order=order, dtype=dtype)\n"
          ]
        },
        {
          "output_type": "stream",
          "name": "stdout",
          "text": [
            "6\n"
          ]
        },
        {
          "output_type": "stream",
          "name": "stderr",
          "text": [
            "/usr/local/lib/python3.9/dist-packages/sklearn/utils/_array_api.py:185: VisibleDeprecationWarning: Creating an ndarray from ragged nested sequences (which is a list-or-tuple of lists-or-tuples-or ndarrays with different lengths or shapes) is deprecated. If you meant to do this, you must specify 'dtype=object' when creating the ndarray.\n",
            "  array = numpy.asarray(array, order=order, dtype=dtype)\n",
            "/usr/local/lib/python3.9/dist-packages/sklearn/neural_network/_multilayer_perceptron.py:541: ConvergenceWarning: lbfgs failed to converge (status=1):\n",
            "STOP: TOTAL NO. of ITERATIONS REACHED LIMIT.\n",
            "\n",
            "Increase the number of iterations (max_iter) or scale the data as shown in:\n",
            "    https://scikit-learn.org/stable/modules/preprocessing.html\n",
            "  self.n_iter_ = _check_optimize_result(\"lbfgs\", opt_res, self.max_iter)\n"
          ]
        },
        {
          "output_type": "stream",
          "name": "stdout",
          "text": [
            "7\n"
          ]
        },
        {
          "output_type": "stream",
          "name": "stderr",
          "text": [
            "/usr/local/lib/python3.9/dist-packages/sklearn/utils/_array_api.py:185: VisibleDeprecationWarning: Creating an ndarray from ragged nested sequences (which is a list-or-tuple of lists-or-tuples-or ndarrays with different lengths or shapes) is deprecated. If you meant to do this, you must specify 'dtype=object' when creating the ndarray.\n",
            "  array = numpy.asarray(array, order=order, dtype=dtype)\n"
          ]
        },
        {
          "output_type": "stream",
          "name": "stdout",
          "text": [
            "8\n"
          ]
        },
        {
          "output_type": "stream",
          "name": "stderr",
          "text": [
            "/usr/local/lib/python3.9/dist-packages/sklearn/utils/_array_api.py:185: VisibleDeprecationWarning: Creating an ndarray from ragged nested sequences (which is a list-or-tuple of lists-or-tuples-or ndarrays with different lengths or shapes) is deprecated. If you meant to do this, you must specify 'dtype=object' when creating the ndarray.\n",
            "  array = numpy.asarray(array, order=order, dtype=dtype)\n"
          ]
        },
        {
          "output_type": "stream",
          "name": "stdout",
          "text": [
            "9\n"
          ]
        },
        {
          "output_type": "stream",
          "name": "stderr",
          "text": [
            "/usr/local/lib/python3.9/dist-packages/sklearn/utils/_array_api.py:185: VisibleDeprecationWarning: Creating an ndarray from ragged nested sequences (which is a list-or-tuple of lists-or-tuples-or ndarrays with different lengths or shapes) is deprecated. If you meant to do this, you must specify 'dtype=object' when creating the ndarray.\n",
            "  array = numpy.asarray(array, order=order, dtype=dtype)\n",
            "/usr/local/lib/python3.9/dist-packages/sklearn/neural_network/_multilayer_perceptron.py:541: ConvergenceWarning: lbfgs failed to converge (status=1):\n",
            "STOP: TOTAL NO. of ITERATIONS REACHED LIMIT.\n",
            "\n",
            "Increase the number of iterations (max_iter) or scale the data as shown in:\n",
            "    https://scikit-learn.org/stable/modules/preprocessing.html\n",
            "  self.n_iter_ = _check_optimize_result(\"lbfgs\", opt_res, self.max_iter)\n"
          ]
        },
        {
          "output_type": "stream",
          "name": "stdout",
          "text": [
            "10\n"
          ]
        },
        {
          "output_type": "stream",
          "name": "stderr",
          "text": [
            "/usr/local/lib/python3.9/dist-packages/sklearn/utils/_array_api.py:185: VisibleDeprecationWarning: Creating an ndarray from ragged nested sequences (which is a list-or-tuple of lists-or-tuples-or ndarrays with different lengths or shapes) is deprecated. If you meant to do this, you must specify 'dtype=object' when creating the ndarray.\n",
            "  array = numpy.asarray(array, order=order, dtype=dtype)\n"
          ]
        },
        {
          "output_type": "stream",
          "name": "stdout",
          "text": [
            "11\n"
          ]
        },
        {
          "output_type": "stream",
          "name": "stderr",
          "text": [
            "/usr/local/lib/python3.9/dist-packages/sklearn/utils/_array_api.py:185: VisibleDeprecationWarning: Creating an ndarray from ragged nested sequences (which is a list-or-tuple of lists-or-tuples-or ndarrays with different lengths or shapes) is deprecated. If you meant to do this, you must specify 'dtype=object' when creating the ndarray.\n",
            "  array = numpy.asarray(array, order=order, dtype=dtype)\n",
            "/usr/local/lib/python3.9/dist-packages/sklearn/neural_network/_multilayer_perceptron.py:541: ConvergenceWarning: lbfgs failed to converge (status=1):\n",
            "STOP: TOTAL NO. of ITERATIONS REACHED LIMIT.\n",
            "\n",
            "Increase the number of iterations (max_iter) or scale the data as shown in:\n",
            "    https://scikit-learn.org/stable/modules/preprocessing.html\n",
            "  self.n_iter_ = _check_optimize_result(\"lbfgs\", opt_res, self.max_iter)\n"
          ]
        },
        {
          "output_type": "stream",
          "name": "stdout",
          "text": [
            "12\n"
          ]
        },
        {
          "output_type": "stream",
          "name": "stderr",
          "text": [
            "/usr/local/lib/python3.9/dist-packages/sklearn/utils/_array_api.py:185: VisibleDeprecationWarning: Creating an ndarray from ragged nested sequences (which is a list-or-tuple of lists-or-tuples-or ndarrays with different lengths or shapes) is deprecated. If you meant to do this, you must specify 'dtype=object' when creating the ndarray.\n",
            "  array = numpy.asarray(array, order=order, dtype=dtype)\n",
            "/usr/local/lib/python3.9/dist-packages/sklearn/neural_network/_multilayer_perceptron.py:541: ConvergenceWarning: lbfgs failed to converge (status=1):\n",
            "STOP: TOTAL NO. of ITERATIONS REACHED LIMIT.\n",
            "\n",
            "Increase the number of iterations (max_iter) or scale the data as shown in:\n",
            "    https://scikit-learn.org/stable/modules/preprocessing.html\n",
            "  self.n_iter_ = _check_optimize_result(\"lbfgs\", opt_res, self.max_iter)\n"
          ]
        },
        {
          "output_type": "stream",
          "name": "stdout",
          "text": [
            "13\n"
          ]
        },
        {
          "output_type": "stream",
          "name": "stderr",
          "text": [
            "/usr/local/lib/python3.9/dist-packages/sklearn/utils/_array_api.py:185: VisibleDeprecationWarning: Creating an ndarray from ragged nested sequences (which is a list-or-tuple of lists-or-tuples-or ndarrays with different lengths or shapes) is deprecated. If you meant to do this, you must specify 'dtype=object' when creating the ndarray.\n",
            "  array = numpy.asarray(array, order=order, dtype=dtype)\n",
            "/usr/local/lib/python3.9/dist-packages/sklearn/neural_network/_multilayer_perceptron.py:541: ConvergenceWarning: lbfgs failed to converge (status=1):\n",
            "STOP: TOTAL NO. of ITERATIONS REACHED LIMIT.\n",
            "\n",
            "Increase the number of iterations (max_iter) or scale the data as shown in:\n",
            "    https://scikit-learn.org/stable/modules/preprocessing.html\n",
            "  self.n_iter_ = _check_optimize_result(\"lbfgs\", opt_res, self.max_iter)\n"
          ]
        },
        {
          "output_type": "stream",
          "name": "stdout",
          "text": [
            "14\n"
          ]
        },
        {
          "output_type": "stream",
          "name": "stderr",
          "text": [
            "/usr/local/lib/python3.9/dist-packages/sklearn/utils/_array_api.py:185: VisibleDeprecationWarning: Creating an ndarray from ragged nested sequences (which is a list-or-tuple of lists-or-tuples-or ndarrays with different lengths or shapes) is deprecated. If you meant to do this, you must specify 'dtype=object' when creating the ndarray.\n",
            "  array = numpy.asarray(array, order=order, dtype=dtype)\n",
            "/usr/local/lib/python3.9/dist-packages/sklearn/neural_network/_multilayer_perceptron.py:1623: DataConversionWarning: A column-vector y was passed when a 1d array was expected. Please change the shape of y to (n_samples, ), for example using ravel().\n",
            "  y = column_or_1d(y, warn=True)\n"
          ]
        },
        {
          "output_type": "stream",
          "name": "stdout",
          "text": [
            "0\n"
          ]
        },
        {
          "output_type": "stream",
          "name": "stderr",
          "text": [
            "/usr/local/lib/python3.9/dist-packages/sklearn/utils/_array_api.py:185: VisibleDeprecationWarning: Creating an ndarray from ragged nested sequences (which is a list-or-tuple of lists-or-tuples-or ndarrays with different lengths or shapes) is deprecated. If you meant to do this, you must specify 'dtype=object' when creating the ndarray.\n",
            "  array = numpy.asarray(array, order=order, dtype=dtype)\n"
          ]
        },
        {
          "output_type": "stream",
          "name": "stdout",
          "text": [
            "1\n"
          ]
        },
        {
          "output_type": "stream",
          "name": "stderr",
          "text": [
            "/usr/local/lib/python3.9/dist-packages/sklearn/utils/_array_api.py:185: VisibleDeprecationWarning: Creating an ndarray from ragged nested sequences (which is a list-or-tuple of lists-or-tuples-or ndarrays with different lengths or shapes) is deprecated. If you meant to do this, you must specify 'dtype=object' when creating the ndarray.\n",
            "  array = numpy.asarray(array, order=order, dtype=dtype)\n"
          ]
        },
        {
          "output_type": "stream",
          "name": "stdout",
          "text": [
            "2\n"
          ]
        },
        {
          "output_type": "stream",
          "name": "stderr",
          "text": [
            "/usr/local/lib/python3.9/dist-packages/sklearn/utils/_array_api.py:185: VisibleDeprecationWarning: Creating an ndarray from ragged nested sequences (which is a list-or-tuple of lists-or-tuples-or ndarrays with different lengths or shapes) is deprecated. If you meant to do this, you must specify 'dtype=object' when creating the ndarray.\n",
            "  array = numpy.asarray(array, order=order, dtype=dtype)\n"
          ]
        },
        {
          "output_type": "stream",
          "name": "stdout",
          "text": [
            "3\n"
          ]
        },
        {
          "output_type": "stream",
          "name": "stderr",
          "text": [
            "/usr/local/lib/python3.9/dist-packages/sklearn/utils/_array_api.py:185: VisibleDeprecationWarning: Creating an ndarray from ragged nested sequences (which is a list-or-tuple of lists-or-tuples-or ndarrays with different lengths or shapes) is deprecated. If you meant to do this, you must specify 'dtype=object' when creating the ndarray.\n",
            "  array = numpy.asarray(array, order=order, dtype=dtype)\n",
            "/usr/local/lib/python3.9/dist-packages/sklearn/neural_network/_multilayer_perceptron.py:541: ConvergenceWarning: lbfgs failed to converge (status=1):\n",
            "STOP: TOTAL NO. of ITERATIONS REACHED LIMIT.\n",
            "\n",
            "Increase the number of iterations (max_iter) or scale the data as shown in:\n",
            "    https://scikit-learn.org/stable/modules/preprocessing.html\n",
            "  self.n_iter_ = _check_optimize_result(\"lbfgs\", opt_res, self.max_iter)\n"
          ]
        },
        {
          "output_type": "stream",
          "name": "stdout",
          "text": [
            "4\n"
          ]
        },
        {
          "output_type": "stream",
          "name": "stderr",
          "text": [
            "/usr/local/lib/python3.9/dist-packages/sklearn/utils/_array_api.py:185: VisibleDeprecationWarning: Creating an ndarray from ragged nested sequences (which is a list-or-tuple of lists-or-tuples-or ndarrays with different lengths or shapes) is deprecated. If you meant to do this, you must specify 'dtype=object' when creating the ndarray.\n",
            "  array = numpy.asarray(array, order=order, dtype=dtype)\n",
            "/usr/local/lib/python3.9/dist-packages/sklearn/neural_network/_multilayer_perceptron.py:541: ConvergenceWarning: lbfgs failed to converge (status=1):\n",
            "STOP: TOTAL NO. of ITERATIONS REACHED LIMIT.\n",
            "\n",
            "Increase the number of iterations (max_iter) or scale the data as shown in:\n",
            "    https://scikit-learn.org/stable/modules/preprocessing.html\n",
            "  self.n_iter_ = _check_optimize_result(\"lbfgs\", opt_res, self.max_iter)\n"
          ]
        },
        {
          "output_type": "stream",
          "name": "stdout",
          "text": [
            "5\n"
          ]
        },
        {
          "output_type": "stream",
          "name": "stderr",
          "text": [
            "/usr/local/lib/python3.9/dist-packages/sklearn/utils/_array_api.py:185: VisibleDeprecationWarning: Creating an ndarray from ragged nested sequences (which is a list-or-tuple of lists-or-tuples-or ndarrays with different lengths or shapes) is deprecated. If you meant to do this, you must specify 'dtype=object' when creating the ndarray.\n",
            "  array = numpy.asarray(array, order=order, dtype=dtype)\n"
          ]
        },
        {
          "output_type": "stream",
          "name": "stdout",
          "text": [
            "6\n"
          ]
        },
        {
          "output_type": "stream",
          "name": "stderr",
          "text": [
            "/usr/local/lib/python3.9/dist-packages/sklearn/utils/_array_api.py:185: VisibleDeprecationWarning: Creating an ndarray from ragged nested sequences (which is a list-or-tuple of lists-or-tuples-or ndarrays with different lengths or shapes) is deprecated. If you meant to do this, you must specify 'dtype=object' when creating the ndarray.\n",
            "  array = numpy.asarray(array, order=order, dtype=dtype)\n"
          ]
        },
        {
          "output_type": "stream",
          "name": "stdout",
          "text": [
            "7\n"
          ]
        },
        {
          "output_type": "stream",
          "name": "stderr",
          "text": [
            "/usr/local/lib/python3.9/dist-packages/sklearn/utils/_array_api.py:185: VisibleDeprecationWarning: Creating an ndarray from ragged nested sequences (which is a list-or-tuple of lists-or-tuples-or ndarrays with different lengths or shapes) is deprecated. If you meant to do this, you must specify 'dtype=object' when creating the ndarray.\n",
            "  array = numpy.asarray(array, order=order, dtype=dtype)\n"
          ]
        },
        {
          "output_type": "stream",
          "name": "stdout",
          "text": [
            "8\n"
          ]
        },
        {
          "output_type": "stream",
          "name": "stderr",
          "text": [
            "/usr/local/lib/python3.9/dist-packages/sklearn/utils/_array_api.py:185: VisibleDeprecationWarning: Creating an ndarray from ragged nested sequences (which is a list-or-tuple of lists-or-tuples-or ndarrays with different lengths or shapes) is deprecated. If you meant to do this, you must specify 'dtype=object' when creating the ndarray.\n",
            "  array = numpy.asarray(array, order=order, dtype=dtype)\n"
          ]
        },
        {
          "output_type": "stream",
          "name": "stdout",
          "text": [
            "9\n"
          ]
        },
        {
          "output_type": "stream",
          "name": "stderr",
          "text": [
            "/usr/local/lib/python3.9/dist-packages/sklearn/utils/_array_api.py:185: VisibleDeprecationWarning: Creating an ndarray from ragged nested sequences (which is a list-or-tuple of lists-or-tuples-or ndarrays with different lengths or shapes) is deprecated. If you meant to do this, you must specify 'dtype=object' when creating the ndarray.\n",
            "  array = numpy.asarray(array, order=order, dtype=dtype)\n"
          ]
        },
        {
          "output_type": "stream",
          "name": "stdout",
          "text": [
            "10\n"
          ]
        },
        {
          "output_type": "stream",
          "name": "stderr",
          "text": [
            "/usr/local/lib/python3.9/dist-packages/sklearn/utils/_array_api.py:185: VisibleDeprecationWarning: Creating an ndarray from ragged nested sequences (which is a list-or-tuple of lists-or-tuples-or ndarrays with different lengths or shapes) is deprecated. If you meant to do this, you must specify 'dtype=object' when creating the ndarray.\n",
            "  array = numpy.asarray(array, order=order, dtype=dtype)\n"
          ]
        },
        {
          "output_type": "stream",
          "name": "stdout",
          "text": [
            "11\n"
          ]
        },
        {
          "output_type": "stream",
          "name": "stderr",
          "text": [
            "/usr/local/lib/python3.9/dist-packages/sklearn/utils/_array_api.py:185: VisibleDeprecationWarning: Creating an ndarray from ragged nested sequences (which is a list-or-tuple of lists-or-tuples-or ndarrays with different lengths or shapes) is deprecated. If you meant to do this, you must specify 'dtype=object' when creating the ndarray.\n",
            "  array = numpy.asarray(array, order=order, dtype=dtype)\n"
          ]
        },
        {
          "output_type": "stream",
          "name": "stdout",
          "text": [
            "12\n"
          ]
        },
        {
          "output_type": "stream",
          "name": "stderr",
          "text": [
            "/usr/local/lib/python3.9/dist-packages/sklearn/utils/_array_api.py:185: VisibleDeprecationWarning: Creating an ndarray from ragged nested sequences (which is a list-or-tuple of lists-or-tuples-or ndarrays with different lengths or shapes) is deprecated. If you meant to do this, you must specify 'dtype=object' when creating the ndarray.\n",
            "  array = numpy.asarray(array, order=order, dtype=dtype)\n"
          ]
        },
        {
          "output_type": "stream",
          "name": "stdout",
          "text": [
            "13\n"
          ]
        },
        {
          "output_type": "stream",
          "name": "stderr",
          "text": [
            "/usr/local/lib/python3.9/dist-packages/sklearn/utils/_array_api.py:185: VisibleDeprecationWarning: Creating an ndarray from ragged nested sequences (which is a list-or-tuple of lists-or-tuples-or ndarrays with different lengths or shapes) is deprecated. If you meant to do this, you must specify 'dtype=object' when creating the ndarray.\n",
            "  array = numpy.asarray(array, order=order, dtype=dtype)\n"
          ]
        },
        {
          "output_type": "stream",
          "name": "stdout",
          "text": [
            "14\n"
          ]
        },
        {
          "output_type": "stream",
          "name": "stderr",
          "text": [
            "/usr/local/lib/python3.9/dist-packages/sklearn/utils/_array_api.py:185: VisibleDeprecationWarning: Creating an ndarray from ragged nested sequences (which is a list-or-tuple of lists-or-tuples-or ndarrays with different lengths or shapes) is deprecated. If you meant to do this, you must specify 'dtype=object' when creating the ndarray.\n",
            "  array = numpy.asarray(array, order=order, dtype=dtype)\n",
            "/usr/local/lib/python3.9/dist-packages/sklearn/neural_network/_multilayer_perceptron.py:1623: DataConversionWarning: A column-vector y was passed when a 1d array was expected. Please change the shape of y to (n_samples, ), for example using ravel().\n",
            "  y = column_or_1d(y, warn=True)\n"
          ]
        },
        {
          "output_type": "stream",
          "name": "stdout",
          "text": [
            "0\n"
          ]
        },
        {
          "output_type": "stream",
          "name": "stderr",
          "text": [
            "/usr/local/lib/python3.9/dist-packages/sklearn/utils/_array_api.py:185: VisibleDeprecationWarning: Creating an ndarray from ragged nested sequences (which is a list-or-tuple of lists-or-tuples-or ndarrays with different lengths or shapes) is deprecated. If you meant to do this, you must specify 'dtype=object' when creating the ndarray.\n",
            "  array = numpy.asarray(array, order=order, dtype=dtype)\n"
          ]
        },
        {
          "output_type": "stream",
          "name": "stdout",
          "text": [
            "1\n"
          ]
        },
        {
          "output_type": "stream",
          "name": "stderr",
          "text": [
            "/usr/local/lib/python3.9/dist-packages/sklearn/utils/_array_api.py:185: VisibleDeprecationWarning: Creating an ndarray from ragged nested sequences (which is a list-or-tuple of lists-or-tuples-or ndarrays with different lengths or shapes) is deprecated. If you meant to do this, you must specify 'dtype=object' when creating the ndarray.\n",
            "  array = numpy.asarray(array, order=order, dtype=dtype)\n"
          ]
        },
        {
          "output_type": "stream",
          "name": "stdout",
          "text": [
            "2\n"
          ]
        },
        {
          "output_type": "stream",
          "name": "stderr",
          "text": [
            "/usr/local/lib/python3.9/dist-packages/sklearn/utils/_array_api.py:185: VisibleDeprecationWarning: Creating an ndarray from ragged nested sequences (which is a list-or-tuple of lists-or-tuples-or ndarrays with different lengths or shapes) is deprecated. If you meant to do this, you must specify 'dtype=object' when creating the ndarray.\n",
            "  array = numpy.asarray(array, order=order, dtype=dtype)\n"
          ]
        },
        {
          "output_type": "stream",
          "name": "stdout",
          "text": [
            "3\n"
          ]
        },
        {
          "output_type": "stream",
          "name": "stderr",
          "text": [
            "/usr/local/lib/python3.9/dist-packages/sklearn/utils/_array_api.py:185: VisibleDeprecationWarning: Creating an ndarray from ragged nested sequences (which is a list-or-tuple of lists-or-tuples-or ndarrays with different lengths or shapes) is deprecated. If you meant to do this, you must specify 'dtype=object' when creating the ndarray.\n",
            "  array = numpy.asarray(array, order=order, dtype=dtype)\n"
          ]
        },
        {
          "output_type": "stream",
          "name": "stdout",
          "text": [
            "4\n"
          ]
        },
        {
          "output_type": "stream",
          "name": "stderr",
          "text": [
            "/usr/local/lib/python3.9/dist-packages/sklearn/utils/_array_api.py:185: VisibleDeprecationWarning: Creating an ndarray from ragged nested sequences (which is a list-or-tuple of lists-or-tuples-or ndarrays with different lengths or shapes) is deprecated. If you meant to do this, you must specify 'dtype=object' when creating the ndarray.\n",
            "  array = numpy.asarray(array, order=order, dtype=dtype)\n"
          ]
        },
        {
          "output_type": "stream",
          "name": "stdout",
          "text": [
            "5\n",
            "6\n"
          ]
        },
        {
          "output_type": "stream",
          "name": "stderr",
          "text": [
            "/usr/local/lib/python3.9/dist-packages/sklearn/utils/_array_api.py:185: VisibleDeprecationWarning: Creating an ndarray from ragged nested sequences (which is a list-or-tuple of lists-or-tuples-or ndarrays with different lengths or shapes) is deprecated. If you meant to do this, you must specify 'dtype=object' when creating the ndarray.\n",
            "  array = numpy.asarray(array, order=order, dtype=dtype)\n",
            "/usr/local/lib/python3.9/dist-packages/sklearn/utils/_array_api.py:185: VisibleDeprecationWarning: Creating an ndarray from ragged nested sequences (which is a list-or-tuple of lists-or-tuples-or ndarrays with different lengths or shapes) is deprecated. If you meant to do this, you must specify 'dtype=object' when creating the ndarray.\n",
            "  array = numpy.asarray(array, order=order, dtype=dtype)\n"
          ]
        },
        {
          "output_type": "stream",
          "name": "stdout",
          "text": [
            "7\n"
          ]
        },
        {
          "output_type": "stream",
          "name": "stderr",
          "text": [
            "/usr/local/lib/python3.9/dist-packages/sklearn/utils/_array_api.py:185: VisibleDeprecationWarning: Creating an ndarray from ragged nested sequences (which is a list-or-tuple of lists-or-tuples-or ndarrays with different lengths or shapes) is deprecated. If you meant to do this, you must specify 'dtype=object' when creating the ndarray.\n",
            "  array = numpy.asarray(array, order=order, dtype=dtype)\n"
          ]
        },
        {
          "output_type": "stream",
          "name": "stdout",
          "text": [
            "8\n"
          ]
        },
        {
          "output_type": "stream",
          "name": "stderr",
          "text": [
            "/usr/local/lib/python3.9/dist-packages/sklearn/utils/_array_api.py:185: VisibleDeprecationWarning: Creating an ndarray from ragged nested sequences (which is a list-or-tuple of lists-or-tuples-or ndarrays with different lengths or shapes) is deprecated. If you meant to do this, you must specify 'dtype=object' when creating the ndarray.\n",
            "  array = numpy.asarray(array, order=order, dtype=dtype)\n"
          ]
        },
        {
          "output_type": "stream",
          "name": "stdout",
          "text": [
            "9\n"
          ]
        },
        {
          "output_type": "stream",
          "name": "stderr",
          "text": [
            "/usr/local/lib/python3.9/dist-packages/sklearn/utils/_array_api.py:185: VisibleDeprecationWarning: Creating an ndarray from ragged nested sequences (which is a list-or-tuple of lists-or-tuples-or ndarrays with different lengths or shapes) is deprecated. If you meant to do this, you must specify 'dtype=object' when creating the ndarray.\n",
            "  array = numpy.asarray(array, order=order, dtype=dtype)\n"
          ]
        },
        {
          "output_type": "stream",
          "name": "stdout",
          "text": [
            "10\n"
          ]
        },
        {
          "output_type": "stream",
          "name": "stderr",
          "text": [
            "/usr/local/lib/python3.9/dist-packages/sklearn/utils/_array_api.py:185: VisibleDeprecationWarning: Creating an ndarray from ragged nested sequences (which is a list-or-tuple of lists-or-tuples-or ndarrays with different lengths or shapes) is deprecated. If you meant to do this, you must specify 'dtype=object' when creating the ndarray.\n",
            "  array = numpy.asarray(array, order=order, dtype=dtype)\n"
          ]
        },
        {
          "output_type": "stream",
          "name": "stdout",
          "text": [
            "11\n"
          ]
        },
        {
          "output_type": "stream",
          "name": "stderr",
          "text": [
            "/usr/local/lib/python3.9/dist-packages/sklearn/utils/_array_api.py:185: VisibleDeprecationWarning: Creating an ndarray from ragged nested sequences (which is a list-or-tuple of lists-or-tuples-or ndarrays with different lengths or shapes) is deprecated. If you meant to do this, you must specify 'dtype=object' when creating the ndarray.\n",
            "  array = numpy.asarray(array, order=order, dtype=dtype)\n"
          ]
        },
        {
          "output_type": "stream",
          "name": "stdout",
          "text": [
            "12\n"
          ]
        },
        {
          "output_type": "stream",
          "name": "stderr",
          "text": [
            "/usr/local/lib/python3.9/dist-packages/sklearn/utils/_array_api.py:185: VisibleDeprecationWarning: Creating an ndarray from ragged nested sequences (which is a list-or-tuple of lists-or-tuples-or ndarrays with different lengths or shapes) is deprecated. If you meant to do this, you must specify 'dtype=object' when creating the ndarray.\n",
            "  array = numpy.asarray(array, order=order, dtype=dtype)\n"
          ]
        },
        {
          "output_type": "stream",
          "name": "stdout",
          "text": [
            "13\n"
          ]
        },
        {
          "output_type": "stream",
          "name": "stderr",
          "text": [
            "/usr/local/lib/python3.9/dist-packages/sklearn/utils/_array_api.py:185: VisibleDeprecationWarning: Creating an ndarray from ragged nested sequences (which is a list-or-tuple of lists-or-tuples-or ndarrays with different lengths or shapes) is deprecated. If you meant to do this, you must specify 'dtype=object' when creating the ndarray.\n",
            "  array = numpy.asarray(array, order=order, dtype=dtype)\n"
          ]
        },
        {
          "output_type": "stream",
          "name": "stdout",
          "text": [
            "14\n"
          ]
        },
        {
          "output_type": "stream",
          "name": "stderr",
          "text": [
            "/usr/local/lib/python3.9/dist-packages/sklearn/utils/_array_api.py:185: VisibleDeprecationWarning: Creating an ndarray from ragged nested sequences (which is a list-or-tuple of lists-or-tuples-or ndarrays with different lengths or shapes) is deprecated. If you meant to do this, you must specify 'dtype=object' when creating the ndarray.\n",
            "  array = numpy.asarray(array, order=order, dtype=dtype)\n",
            "/usr/local/lib/python3.9/dist-packages/sklearn/neural_network/_multilayer_perceptron.py:1623: DataConversionWarning: A column-vector y was passed when a 1d array was expected. Please change the shape of y to (n_samples, ), for example using ravel().\n",
            "  y = column_or_1d(y, warn=True)\n"
          ]
        },
        {
          "output_type": "stream",
          "name": "stdout",
          "text": [
            "0\n"
          ]
        },
        {
          "output_type": "stream",
          "name": "stderr",
          "text": [
            "/usr/local/lib/python3.9/dist-packages/sklearn/utils/_array_api.py:185: VisibleDeprecationWarning: Creating an ndarray from ragged nested sequences (which is a list-or-tuple of lists-or-tuples-or ndarrays with different lengths or shapes) is deprecated. If you meant to do this, you must specify 'dtype=object' when creating the ndarray.\n",
            "  array = numpy.asarray(array, order=order, dtype=dtype)\n"
          ]
        },
        {
          "output_type": "stream",
          "name": "stdout",
          "text": [
            "1\n"
          ]
        },
        {
          "output_type": "stream",
          "name": "stderr",
          "text": [
            "/usr/local/lib/python3.9/dist-packages/sklearn/utils/_array_api.py:185: VisibleDeprecationWarning: Creating an ndarray from ragged nested sequences (which is a list-or-tuple of lists-or-tuples-or ndarrays with different lengths or shapes) is deprecated. If you meant to do this, you must specify 'dtype=object' when creating the ndarray.\n",
            "  array = numpy.asarray(array, order=order, dtype=dtype)\n"
          ]
        },
        {
          "output_type": "stream",
          "name": "stdout",
          "text": [
            "2\n"
          ]
        },
        {
          "output_type": "stream",
          "name": "stderr",
          "text": [
            "/usr/local/lib/python3.9/dist-packages/sklearn/utils/_array_api.py:185: VisibleDeprecationWarning: Creating an ndarray from ragged nested sequences (which is a list-or-tuple of lists-or-tuples-or ndarrays with different lengths or shapes) is deprecated. If you meant to do this, you must specify 'dtype=object' when creating the ndarray.\n",
            "  array = numpy.asarray(array, order=order, dtype=dtype)\n"
          ]
        },
        {
          "output_type": "stream",
          "name": "stdout",
          "text": [
            "3\n"
          ]
        },
        {
          "output_type": "stream",
          "name": "stderr",
          "text": [
            "/usr/local/lib/python3.9/dist-packages/sklearn/utils/_array_api.py:185: VisibleDeprecationWarning: Creating an ndarray from ragged nested sequences (which is a list-or-tuple of lists-or-tuples-or ndarrays with different lengths or shapes) is deprecated. If you meant to do this, you must specify 'dtype=object' when creating the ndarray.\n",
            "  array = numpy.asarray(array, order=order, dtype=dtype)\n"
          ]
        },
        {
          "output_type": "stream",
          "name": "stdout",
          "text": [
            "4\n"
          ]
        },
        {
          "output_type": "stream",
          "name": "stderr",
          "text": [
            "/usr/local/lib/python3.9/dist-packages/sklearn/utils/_array_api.py:185: VisibleDeprecationWarning: Creating an ndarray from ragged nested sequences (which is a list-or-tuple of lists-or-tuples-or ndarrays with different lengths or shapes) is deprecated. If you meant to do this, you must specify 'dtype=object' when creating the ndarray.\n",
            "  array = numpy.asarray(array, order=order, dtype=dtype)\n"
          ]
        },
        {
          "output_type": "stream",
          "name": "stdout",
          "text": [
            "5\n"
          ]
        },
        {
          "output_type": "stream",
          "name": "stderr",
          "text": [
            "/usr/local/lib/python3.9/dist-packages/sklearn/utils/_array_api.py:185: VisibleDeprecationWarning: Creating an ndarray from ragged nested sequences (which is a list-or-tuple of lists-or-tuples-or ndarrays with different lengths or shapes) is deprecated. If you meant to do this, you must specify 'dtype=object' when creating the ndarray.\n",
            "  array = numpy.asarray(array, order=order, dtype=dtype)\n"
          ]
        },
        {
          "output_type": "stream",
          "name": "stdout",
          "text": [
            "6\n"
          ]
        },
        {
          "output_type": "stream",
          "name": "stderr",
          "text": [
            "/usr/local/lib/python3.9/dist-packages/sklearn/utils/_array_api.py:185: VisibleDeprecationWarning: Creating an ndarray from ragged nested sequences (which is a list-or-tuple of lists-or-tuples-or ndarrays with different lengths or shapes) is deprecated. If you meant to do this, you must specify 'dtype=object' when creating the ndarray.\n",
            "  array = numpy.asarray(array, order=order, dtype=dtype)\n"
          ]
        },
        {
          "output_type": "stream",
          "name": "stdout",
          "text": [
            "7\n"
          ]
        },
        {
          "output_type": "stream",
          "name": "stderr",
          "text": [
            "/usr/local/lib/python3.9/dist-packages/sklearn/utils/_array_api.py:185: VisibleDeprecationWarning: Creating an ndarray from ragged nested sequences (which is a list-or-tuple of lists-or-tuples-or ndarrays with different lengths or shapes) is deprecated. If you meant to do this, you must specify 'dtype=object' when creating the ndarray.\n",
            "  array = numpy.asarray(array, order=order, dtype=dtype)\n"
          ]
        },
        {
          "output_type": "stream",
          "name": "stdout",
          "text": [
            "8\n"
          ]
        },
        {
          "output_type": "stream",
          "name": "stderr",
          "text": [
            "/usr/local/lib/python3.9/dist-packages/sklearn/utils/_array_api.py:185: VisibleDeprecationWarning: Creating an ndarray from ragged nested sequences (which is a list-or-tuple of lists-or-tuples-or ndarrays with different lengths or shapes) is deprecated. If you meant to do this, you must specify 'dtype=object' when creating the ndarray.\n",
            "  array = numpy.asarray(array, order=order, dtype=dtype)\n"
          ]
        },
        {
          "output_type": "stream",
          "name": "stdout",
          "text": [
            "9\n"
          ]
        },
        {
          "output_type": "stream",
          "name": "stderr",
          "text": [
            "/usr/local/lib/python3.9/dist-packages/sklearn/utils/_array_api.py:185: VisibleDeprecationWarning: Creating an ndarray from ragged nested sequences (which is a list-or-tuple of lists-or-tuples-or ndarrays with different lengths or shapes) is deprecated. If you meant to do this, you must specify 'dtype=object' when creating the ndarray.\n",
            "  array = numpy.asarray(array, order=order, dtype=dtype)\n"
          ]
        },
        {
          "output_type": "stream",
          "name": "stdout",
          "text": [
            "10\n"
          ]
        },
        {
          "output_type": "stream",
          "name": "stderr",
          "text": [
            "/usr/local/lib/python3.9/dist-packages/sklearn/utils/_array_api.py:185: VisibleDeprecationWarning: Creating an ndarray from ragged nested sequences (which is a list-or-tuple of lists-or-tuples-or ndarrays with different lengths or shapes) is deprecated. If you meant to do this, you must specify 'dtype=object' when creating the ndarray.\n",
            "  array = numpy.asarray(array, order=order, dtype=dtype)\n"
          ]
        },
        {
          "output_type": "stream",
          "name": "stdout",
          "text": [
            "11\n"
          ]
        },
        {
          "output_type": "stream",
          "name": "stderr",
          "text": [
            "/usr/local/lib/python3.9/dist-packages/sklearn/utils/_array_api.py:185: VisibleDeprecationWarning: Creating an ndarray from ragged nested sequences (which is a list-or-tuple of lists-or-tuples-or ndarrays with different lengths or shapes) is deprecated. If you meant to do this, you must specify 'dtype=object' when creating the ndarray.\n",
            "  array = numpy.asarray(array, order=order, dtype=dtype)\n"
          ]
        },
        {
          "output_type": "stream",
          "name": "stdout",
          "text": [
            "12\n"
          ]
        },
        {
          "output_type": "stream",
          "name": "stderr",
          "text": [
            "/usr/local/lib/python3.9/dist-packages/sklearn/utils/_array_api.py:185: VisibleDeprecationWarning: Creating an ndarray from ragged nested sequences (which is a list-or-tuple of lists-or-tuples-or ndarrays with different lengths or shapes) is deprecated. If you meant to do this, you must specify 'dtype=object' when creating the ndarray.\n",
            "  array = numpy.asarray(array, order=order, dtype=dtype)\n"
          ]
        },
        {
          "output_type": "stream",
          "name": "stdout",
          "text": [
            "13\n"
          ]
        },
        {
          "output_type": "stream",
          "name": "stderr",
          "text": [
            "/usr/local/lib/python3.9/dist-packages/sklearn/utils/_array_api.py:185: VisibleDeprecationWarning: Creating an ndarray from ragged nested sequences (which is a list-or-tuple of lists-or-tuples-or ndarrays with different lengths or shapes) is deprecated. If you meant to do this, you must specify 'dtype=object' when creating the ndarray.\n",
            "  array = numpy.asarray(array, order=order, dtype=dtype)\n"
          ]
        },
        {
          "output_type": "stream",
          "name": "stdout",
          "text": [
            "14\n"
          ]
        },
        {
          "output_type": "stream",
          "name": "stderr",
          "text": [
            "/usr/local/lib/python3.9/dist-packages/sklearn/utils/_array_api.py:185: VisibleDeprecationWarning: Creating an ndarray from ragged nested sequences (which is a list-or-tuple of lists-or-tuples-or ndarrays with different lengths or shapes) is deprecated. If you meant to do this, you must specify 'dtype=object' when creating the ndarray.\n",
            "  array = numpy.asarray(array, order=order, dtype=dtype)\n",
            "/usr/local/lib/python3.9/dist-packages/sklearn/neural_network/_multilayer_perceptron.py:1623: DataConversionWarning: A column-vector y was passed when a 1d array was expected. Please change the shape of y to (n_samples, ), for example using ravel().\n",
            "  y = column_or_1d(y, warn=True)\n"
          ]
        },
        {
          "output_type": "stream",
          "name": "stdout",
          "text": [
            "0\n"
          ]
        },
        {
          "output_type": "stream",
          "name": "stderr",
          "text": [
            "/usr/local/lib/python3.9/dist-packages/sklearn/utils/_array_api.py:185: VisibleDeprecationWarning: Creating an ndarray from ragged nested sequences (which is a list-or-tuple of lists-or-tuples-or ndarrays with different lengths or shapes) is deprecated. If you meant to do this, you must specify 'dtype=object' when creating the ndarray.\n",
            "  array = numpy.asarray(array, order=order, dtype=dtype)\n"
          ]
        },
        {
          "output_type": "stream",
          "name": "stdout",
          "text": [
            "1\n"
          ]
        },
        {
          "output_type": "stream",
          "name": "stderr",
          "text": [
            "/usr/local/lib/python3.9/dist-packages/sklearn/utils/_array_api.py:185: VisibleDeprecationWarning: Creating an ndarray from ragged nested sequences (which is a list-or-tuple of lists-or-tuples-or ndarrays with different lengths or shapes) is deprecated. If you meant to do this, you must specify 'dtype=object' when creating the ndarray.\n",
            "  array = numpy.asarray(array, order=order, dtype=dtype)\n"
          ]
        },
        {
          "output_type": "stream",
          "name": "stdout",
          "text": [
            "2\n"
          ]
        },
        {
          "output_type": "stream",
          "name": "stderr",
          "text": [
            "/usr/local/lib/python3.9/dist-packages/sklearn/utils/_array_api.py:185: VisibleDeprecationWarning: Creating an ndarray from ragged nested sequences (which is a list-or-tuple of lists-or-tuples-or ndarrays with different lengths or shapes) is deprecated. If you meant to do this, you must specify 'dtype=object' when creating the ndarray.\n",
            "  array = numpy.asarray(array, order=order, dtype=dtype)\n"
          ]
        },
        {
          "output_type": "stream",
          "name": "stdout",
          "text": [
            "3\n"
          ]
        },
        {
          "output_type": "stream",
          "name": "stderr",
          "text": [
            "/usr/local/lib/python3.9/dist-packages/sklearn/utils/_array_api.py:185: VisibleDeprecationWarning: Creating an ndarray from ragged nested sequences (which is a list-or-tuple of lists-or-tuples-or ndarrays with different lengths or shapes) is deprecated. If you meant to do this, you must specify 'dtype=object' when creating the ndarray.\n",
            "  array = numpy.asarray(array, order=order, dtype=dtype)\n"
          ]
        },
        {
          "output_type": "stream",
          "name": "stdout",
          "text": [
            "4\n"
          ]
        },
        {
          "output_type": "stream",
          "name": "stderr",
          "text": [
            "/usr/local/lib/python3.9/dist-packages/sklearn/utils/_array_api.py:185: VisibleDeprecationWarning: Creating an ndarray from ragged nested sequences (which is a list-or-tuple of lists-or-tuples-or ndarrays with different lengths or shapes) is deprecated. If you meant to do this, you must specify 'dtype=object' when creating the ndarray.\n",
            "  array = numpy.asarray(array, order=order, dtype=dtype)\n"
          ]
        },
        {
          "output_type": "stream",
          "name": "stdout",
          "text": [
            "5\n"
          ]
        },
        {
          "output_type": "stream",
          "name": "stderr",
          "text": [
            "/usr/local/lib/python3.9/dist-packages/sklearn/utils/_array_api.py:185: VisibleDeprecationWarning: Creating an ndarray from ragged nested sequences (which is a list-or-tuple of lists-or-tuples-or ndarrays with different lengths or shapes) is deprecated. If you meant to do this, you must specify 'dtype=object' when creating the ndarray.\n",
            "  array = numpy.asarray(array, order=order, dtype=dtype)\n"
          ]
        },
        {
          "output_type": "stream",
          "name": "stdout",
          "text": [
            "6\n"
          ]
        },
        {
          "output_type": "stream",
          "name": "stderr",
          "text": [
            "/usr/local/lib/python3.9/dist-packages/sklearn/utils/_array_api.py:185: VisibleDeprecationWarning: Creating an ndarray from ragged nested sequences (which is a list-or-tuple of lists-or-tuples-or ndarrays with different lengths or shapes) is deprecated. If you meant to do this, you must specify 'dtype=object' when creating the ndarray.\n",
            "  array = numpy.asarray(array, order=order, dtype=dtype)\n"
          ]
        },
        {
          "output_type": "stream",
          "name": "stdout",
          "text": [
            "7\n"
          ]
        },
        {
          "output_type": "stream",
          "name": "stderr",
          "text": [
            "/usr/local/lib/python3.9/dist-packages/sklearn/utils/_array_api.py:185: VisibleDeprecationWarning: Creating an ndarray from ragged nested sequences (which is a list-or-tuple of lists-or-tuples-or ndarrays with different lengths or shapes) is deprecated. If you meant to do this, you must specify 'dtype=object' when creating the ndarray.\n",
            "  array = numpy.asarray(array, order=order, dtype=dtype)\n"
          ]
        },
        {
          "output_type": "stream",
          "name": "stdout",
          "text": [
            "8\n"
          ]
        },
        {
          "output_type": "stream",
          "name": "stderr",
          "text": [
            "/usr/local/lib/python3.9/dist-packages/sklearn/utils/_array_api.py:185: VisibleDeprecationWarning: Creating an ndarray from ragged nested sequences (which is a list-or-tuple of lists-or-tuples-or ndarrays with different lengths or shapes) is deprecated. If you meant to do this, you must specify 'dtype=object' when creating the ndarray.\n",
            "  array = numpy.asarray(array, order=order, dtype=dtype)\n"
          ]
        },
        {
          "output_type": "stream",
          "name": "stdout",
          "text": [
            "9\n"
          ]
        },
        {
          "output_type": "stream",
          "name": "stderr",
          "text": [
            "/usr/local/lib/python3.9/dist-packages/sklearn/utils/_array_api.py:185: VisibleDeprecationWarning: Creating an ndarray from ragged nested sequences (which is a list-or-tuple of lists-or-tuples-or ndarrays with different lengths or shapes) is deprecated. If you meant to do this, you must specify 'dtype=object' when creating the ndarray.\n",
            "  array = numpy.asarray(array, order=order, dtype=dtype)\n"
          ]
        },
        {
          "output_type": "stream",
          "name": "stdout",
          "text": [
            "10\n"
          ]
        },
        {
          "output_type": "stream",
          "name": "stderr",
          "text": [
            "/usr/local/lib/python3.9/dist-packages/sklearn/utils/_array_api.py:185: VisibleDeprecationWarning: Creating an ndarray from ragged nested sequences (which is a list-or-tuple of lists-or-tuples-or ndarrays with different lengths or shapes) is deprecated. If you meant to do this, you must specify 'dtype=object' when creating the ndarray.\n",
            "  array = numpy.asarray(array, order=order, dtype=dtype)\n"
          ]
        },
        {
          "output_type": "stream",
          "name": "stdout",
          "text": [
            "11\n"
          ]
        },
        {
          "output_type": "stream",
          "name": "stderr",
          "text": [
            "/usr/local/lib/python3.9/dist-packages/sklearn/utils/_array_api.py:185: VisibleDeprecationWarning: Creating an ndarray from ragged nested sequences (which is a list-or-tuple of lists-or-tuples-or ndarrays with different lengths or shapes) is deprecated. If you meant to do this, you must specify 'dtype=object' when creating the ndarray.\n",
            "  array = numpy.asarray(array, order=order, dtype=dtype)\n"
          ]
        },
        {
          "output_type": "stream",
          "name": "stdout",
          "text": [
            "12\n"
          ]
        },
        {
          "output_type": "stream",
          "name": "stderr",
          "text": [
            "/usr/local/lib/python3.9/dist-packages/sklearn/utils/_array_api.py:185: VisibleDeprecationWarning: Creating an ndarray from ragged nested sequences (which is a list-or-tuple of lists-or-tuples-or ndarrays with different lengths or shapes) is deprecated. If you meant to do this, you must specify 'dtype=object' when creating the ndarray.\n",
            "  array = numpy.asarray(array, order=order, dtype=dtype)\n"
          ]
        },
        {
          "output_type": "stream",
          "name": "stdout",
          "text": [
            "13\n"
          ]
        },
        {
          "output_type": "stream",
          "name": "stderr",
          "text": [
            "/usr/local/lib/python3.9/dist-packages/sklearn/utils/_array_api.py:185: VisibleDeprecationWarning: Creating an ndarray from ragged nested sequences (which is a list-or-tuple of lists-or-tuples-or ndarrays with different lengths or shapes) is deprecated. If you meant to do this, you must specify 'dtype=object' when creating the ndarray.\n",
            "  array = numpy.asarray(array, order=order, dtype=dtype)\n"
          ]
        },
        {
          "output_type": "stream",
          "name": "stdout",
          "text": [
            "14\n"
          ]
        },
        {
          "output_type": "stream",
          "name": "stderr",
          "text": [
            "/usr/local/lib/python3.9/dist-packages/sklearn/utils/_array_api.py:185: VisibleDeprecationWarning: Creating an ndarray from ragged nested sequences (which is a list-or-tuple of lists-or-tuples-or ndarrays with different lengths or shapes) is deprecated. If you meant to do this, you must specify 'dtype=object' when creating the ndarray.\n",
            "  array = numpy.asarray(array, order=order, dtype=dtype)\n"
          ]
        }
      ]
    }
  ],
  "metadata": {
    "kernelspec": {
      "display_name": "rl",
      "language": "python",
      "name": "python3"
    },
    "language_info": {
      "codemirror_mode": {
        "name": "ipython",
        "version": 3
      },
      "file_extension": ".py",
      "mimetype": "text/x-python",
      "name": "python",
      "nbconvert_exporter": "python",
      "pygments_lexer": "ipython3",
      "version": "3.9.16"
    },
    "orig_nbformat": 4,
    "colab": {
      "provenance": []
    }
  },
  "nbformat": 4,
  "nbformat_minor": 0
}